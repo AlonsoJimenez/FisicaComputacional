{
 "cells": [
  {
   "cell_type": "markdown",
   "id": "77a97a9d",
   "metadata": {},
   "source": [
    "# Integración multidimensional usando la técnica de Monte Carlo"
   ]
  },
  {
   "cell_type": "markdown",
   "source": [
    "Alonso Jiménez Moya\n",
    "Carné: 2019031476"
   ],
   "metadata": {
    "collapsed": false,
    "pycharm": {
     "name": "#%% md\n"
    }
   }
  },
  {
   "cell_type": "markdown",
   "id": "48bda089",
   "metadata": {},
   "source": [
    "Por medio del método de Monte Carlo multidimensional calcule la integral:\n",
    "$$\n",
    "I = \\int_0^1\\mathrm{d}x_1\\int_0^1\\mathrm{d}x_2 \\ldots\\int_0^1\\mathrm{d}x_{10}~(x_1 + x_2 + \\ldots + x_{10})^2 = \\dfrac{155}{6}\n",
    "$$\n",
    "1. Realice el cálculo de la integral 16 veces para un número de muestras _nMuestras_ = 2 y calcule el promedio del resultado obtenido en cada iteración (sin determinar una semilla para el generador de números aleatorios). Imprima el resultado obtenido. **1 punto**\n",
    "2. Repita el paso anterior para _nMuestras_ = 4,8, ... , 8192. Imprima el resultado promedio para cada valor de _nMuestras_. **1 punto**\n",
    "3. Grafique el error del valor obtenido de la integral para cada número de muestras contra $\\dfrac{1}{\\sqrt{nMuestras}}$. ¿Cuál es el comportamiento del gráfico obtenido? Comente. **2 puntos**"
   ]
  },
  {
   "cell_type": "markdown",
   "source": [
    "Paso 1."
   ],
   "metadata": {
    "collapsed": false,
    "pycharm": {
     "name": "#%% md\n"
    }
   }
  },
  {
   "cell_type": "code",
   "execution_count": 2,
   "id": "4410f001",
   "metadata": {},
   "outputs": [
    {
     "name": "stdout",
     "output_type": "stream",
     "text": [
      "Promedio de 16 iteraciones de Monte Carlo:\n",
      "27.11262394451515\n"
     ]
    }
   ],
   "source": [
    "import numpy as np\n",
    "\n",
    "def f(numeroDeMuestras):\n",
    "    '''\n",
    "    Funcion auxiliar para el calculo f(xi)\n",
    "    :param numeroDeMuestras: numero de muestras con el que quiere hacer la iteracion\n",
    "    :return: resultado de la funcion evaluada en MC con el promedio\n",
    "    '''\n",
    "    resultado = 0\n",
    "    for n in range(numeroDeMuestras):\n",
    "        iteracion = 0\n",
    "        xi = np.random.uniform(size = 10)\n",
    "        for i in xi:\n",
    "            iteracion += i\n",
    "        iteracion = iteracion**2\n",
    "        resultado += iteracion\n",
    "    return resultado/numeroDeMuestras\n",
    "\n",
    "\n",
    "\n",
    "def solucionMonteCarlo(numeroDeMuestras):\n",
    "    '''\n",
    "    Resuelve integral mulriple por el metodo de monte carlo\n",
    "    :param numeroDeMuestras: numero de muestras con el que se quiere hacer el resukltado\n",
    "    :return: resultado encontrado por metodo de montecarlo\n",
    "    '''\n",
    "    limites = [0,1]\n",
    "    resultado = (limites[1]-limites[0])**10 * f(numeroDeMuestras)\n",
    "    return resultado\n",
    "\n",
    "\n",
    "def variasIteracionesMC(numeroDeIteraciones, numeroMuestra):\n",
    "    '''\n",
    "    calcula un promedio para un numero de iteraciones dado en el que se resuelve la integracion por MC\n",
    "    :param numeroDeIteraciones: numero de veces que se iterara para encontrar el promedio\n",
    "    :param numeroMuestra: numero de muestras por el metodo de monte carlo\n",
    "    :return: promedio que se usara como mejor estimador de la integral\n",
    "    '''\n",
    "    respuestas = []\n",
    "    for i in range(numeroDeIteraciones):\n",
    "        respuestas += [solucionMonteCarlo(numeroMuestra)]\n",
    "    resultado = np.average(respuestas)\n",
    "    return resultado\n",
    "\n",
    "print('Promedio de 16 iteraciones de Monte Carlo:')\n",
    "print(variasIteracionesMC(16,2))\n",
    "\n"
   ]
  },
  {
   "cell_type": "markdown",
   "source": [
    "Paso 2."
   ],
   "metadata": {
    "collapsed": false,
    "pycharm": {
     "name": "#%% md\n"
    }
   }
  },
  {
   "cell_type": "code",
   "execution_count": 18,
   "outputs": [
    {
     "name": "stdout",
     "output_type": "stream",
     "text": [
      "Para 4 numero de muestras el resultado es:\n",
      "24.750282247503893\n",
      "Para 8 numero de muestras el resultado es:\n",
      "25.87732549663881\n",
      "Para 16 numero de muestras el resultado es:\n",
      "25.699289341688093\n",
      "Para 32 numero de muestras el resultado es:\n",
      "26.016312525383984\n",
      "Para 64 numero de muestras el resultado es:\n",
      "25.462160038141533\n",
      "Para 128 numero de muestras el resultado es:\n",
      "25.772134689386363\n",
      "Para 256 numero de muestras el resultado es:\n",
      "25.831809225614336\n",
      "Para 512 numero de muestras el resultado es:\n",
      "25.783504674740804\n",
      "Para 1024 numero de muestras el resultado es:\n",
      "25.870594478832615\n",
      "Para 2048 numero de muestras el resultado es:\n",
      "25.753670229510675\n",
      "Para 4096 numero de muestras el resultado es:\n",
      "25.846597882404996\n",
      "Para 8192 numero de muestras el resultado es:\n",
      "25.850903175764444\n"
     ]
    }
   ],
   "source": [
    "numeroDeMuestra = 4\n",
    "#Con el siguiente while se cambia 2^n numero de muestras para comparar los resultados\n",
    "while(numeroDeMuestra <= 8192):\n",
    "    print('Para ' + str(numeroDeMuestra) + ' numero de muestras el resultado es:')\n",
    "    resultado = variasIteracionesMC(16, numeroDeMuestra)\n",
    "    print(resultado)\n",
    "    numeroDeMuestra = 2*numeroDeMuestra\n",
    "\n"
   ],
   "metadata": {
    "collapsed": false,
    "pycharm": {
     "name": "#%%\n"
    }
   }
  },
  {
   "cell_type": "code",
   "execution_count": 40,
   "outputs": [
    {
     "data": {
      "text/plain": "<Figure size 432x288 with 1 Axes>",
      "image/png": "[encoded data removed]"
     },
     "metadata": {
      "needs_background": "light"
     },
     "output_type": "display_data"
    }
   ],
   "source": [
    "import matplotlib.pyplot as plt\n",
    "\n",
    "def graficarError():\n",
    "    '''\n",
    "    Se grafica el error contra 1/raiz(numero de muestras) para 1500 iteraciones con la que se calcula el promedio de MC\n",
    "    :return: Grafica del error contra 1/raiz(n)\n",
    "    '''\n",
    "    #En las siguientes listas se almacenan los resultados en memoria\n",
    "    muestras = []\n",
    "    resultados = []\n",
    "    numeroDeMuestra = 4\n",
    "    #Se itera para cada numero de muestras deseado\n",
    "    while(numeroDeMuestra <= 8192):\n",
    "        muestras += [numeroDeMuestra]\n",
    "        resultados += [variasIteracionesMC(1500, numeroDeMuestra)]\n",
    "        numeroDeMuestra = 2*numeroDeMuestra\n",
    "    #Se cambian las listas para ser manipuladas por Numpy\n",
    "    muestrasNum = np.array(muestras)\n",
    "    resultadosNum = np.array(resultados)\n",
    "    #En las siguintes lineas se les da el tratamiento deseado para grafica deseada por el resultado\n",
    "    ejeX = 1/((muestrasNum)**(1/2))\n",
    "    ejeY = np.abs((155/6) - resultadosNum)\n",
    "    #Funciones para graficar la tendencia\n",
    "    z = np.polyfit(ejeX, ejeY, 1)\n",
    "    p = np.poly1d(z)\n",
    "    #Realizan graficas deseadas\n",
    "    fig, ax = plt.subplots()\n",
    "    ax.set_xlabel('$1/\\sqrt{muestras}$')\n",
    "    ax.set_ylabel('Error')\n",
    "    ax.plot(ejeX, ejeY, label = 'Resultado por MC')\n",
    "    ax.plot(ejeX, p(ejeX), label = 'Tendecia lineal')\n",
    "    ax.set_xlim(0.5, 0)\n",
    "    plt.legend()\n",
    "    plt.show()\n",
    "\n",
    "graficarError()"
   ],
   "metadata": {
    "collapsed": false,
    "pycharm": {
     "name": "#%%\n"
    }
   }
  },
  {
   "cell_type": "markdown",
   "source": [
    "Se observa como el error decrece mientras el numero de muestras crece de forma aproximadamente lineal para el numero de iteraciones de 1500 seleccionada justo como se esperaba en la teoria. Sin embargo cada vez que se calcula el error varia por lo que no es una gráfica exactamente lineal la del error contra el numero de muestras elevado a a la -1/2. Lo importante a notar es que se cumple la ecuacion donde cuando N tiende a infinito, el error se aproxima a 0."
   ],
   "metadata": {
    "collapsed": false,
    "pycharm": {
     "name": "#%% md\n"
    }
   }
  },
  {
   "cell_type": "markdown",
   "source": [],
   "metadata": {
    "collapsed": false,
    "pycharm": {
     "name": "#%% md\n"
    }
   }
  }
 ],
 "metadata": {
  "kernelspec": {
   "display_name": "Python 3",
   "language": "python",
   "name": "python3"
  },
  "language_info": {
   "codemirror_mode": {
    "name": "ipython",
    "version": 3
   },
   "file_extension": ".py",
   "mimetype": "text/x-python",
   "name": "python",
   "nbconvert_exporter": "python",
   "pygments_lexer": "ipython3",
   "version": "3.8.8"
  }
 },
 "nbformat": 4,
 "nbformat_minor": 5
}