{
 "cells": [
  {
   "cell_type": "code",
   "execution_count": 1,
   "metadata": {
    "pycharm": {
     "name": "#%%\n"
    }
   },
   "outputs": [
    {
     "ename": "ModuleNotFoundError",
     "evalue": "No module named 'scipy'",
     "output_type": "error",
     "traceback": [
      "\u001B[1;31m---------------------------------------------------------------------------\u001B[0m",
      "\u001B[1;31mModuleNotFoundError\u001B[0m                       Traceback (most recent call last)",
      "Input \u001B[1;32mIn [1]\u001B[0m, in \u001B[0;36m<cell line: 4>\u001B[1;34m()\u001B[0m\n\u001B[0;32m      2\u001B[0m \u001B[38;5;28;01mimport\u001B[39;00m \u001B[38;5;21;01mmatplotlib\u001B[39;00m\u001B[38;5;21;01m.\u001B[39;00m\u001B[38;5;21;01mpyplot\u001B[39;00m \u001B[38;5;28;01mas\u001B[39;00m \u001B[38;5;21;01mplt\u001B[39;00m\n\u001B[0;32m      3\u001B[0m \u001B[38;5;28;01mimport\u001B[39;00m \u001B[38;5;21;01mnumpy\u001B[39;00m \u001B[38;5;28;01mas\u001B[39;00m \u001B[38;5;21;01mnp\u001B[39;00m\n\u001B[1;32m----> 4\u001B[0m \u001B[38;5;28;01mimport\u001B[39;00m \u001B[38;5;21;01mscipy\u001B[39;00m\n",
      "\u001B[1;31mModuleNotFoundError\u001B[0m: No module named 'scipy'"
     ]
    }
   ],
   "source": [
    "# Librerias utilizadas\n",
    "import matplotlib.pyplot as plt\n",
    "import numpy as np\n",
    "import scipy\n"
   ]
  },
  {
   "cell_type": "markdown",
   "metadata": {
    "pycharm": {
     "name": "#%% md\n"
    }
   },
   "source": [
    "Modelo Ising 1D"
   ]
  },
  {
   "cell_type": "code",
   "execution_count": 3,
   "metadata": {
    "pycharm": {
     "name": "#%%\n"
    }
   },
   "outputs": [],
   "source": [
    "#Definimos parametros\n",
    "\n",
    "J = 1\n",
    "nEspines = 100\n",
    "kBT = 1\n",
    "\n",
    "#Iniciamos el arreglo de entradas\n",
    "arregloEspines = np.ones(nEspines)\n",
    "arregloEspines = arregloEspines * 1/2\n",
    "estados = arregloEspines\n",
    "estados  = np.concatenate(([estados],[arregloEspines]), axis=0)\n",
    "\n",
    "def definirParametrosGlobales(J1 = 1,nEspines1 = 100, kBT1 = 1, orinentacion = 3 ):\n",
    "    global J\n",
    "    global nEspines\n",
    "    global kBT\n",
    "    global estados\n",
    "    global arregloEspines\n",
    "    J = J1\n",
    "    nEspines = nEspines1\n",
    "    kBT = kBT1\n",
    "    if orinentacion == 1:\n",
    "        arregloEspines = np.zeros(nEspines)\n",
    "        #arregloEspines = arregloEspines * 1/2\n",
    "    elif orinentacion == 2:\n",
    "        arregloEspines = np.ones(nEspines)\n",
    "        #arregloEspines = arregloEspines * -1/2\n",
    "    else:\n",
    "        arregloEspines = np.random.choice(a = [0, 1], size=nEspines)\n",
    "    estados = arregloEspines\n",
    "    estados  = np.concatenate(([estados],[arregloEspines]), axis=0)\n",
    "\n"
   ]
  },
  {
   "cell_type": "code",
   "execution_count": 4,
   "metadata": {
    "pycharm": {
     "name": "#%%\n"
    }
   },
   "outputs": [],
   "source": [
    "def calculoDeEnergia(arregloEspines):\n",
    "    '''\n",
    "    :param arregloEspines: arreglo de dimension [1, N] con los estados de los espines.\n",
    "    :return: calculo de la energia\n",
    "    '''\n",
    "    energiaVector = 0\n",
    "    for i in range(arregloEspines.size-1):\n",
    "        if i == arregloEspines.size-1:\n",
    "            energiaVector += arregloEspines[i] * arregloEspines[0]\n",
    "        else:\n",
    "            energiaVector += arregloEspines[i] * arregloEspines[i+1]\n",
    "\n",
    "    return -J    * energiaVector\n",
    "\n",
    "\n",
    "def cambioEspin():\n",
    "    '''\n",
    "    :return: determina un espin aleatorio al cual cambiarle el estado, esto se define segun el tamano del arreglo de espines.\n",
    "    '''\n",
    "    espin = np.random.randint(low = 0, high = nEspines-1)\n",
    "    return espin\n",
    "\n",
    "\n",
    "def calculoDeltaE():\n",
    "    '''\n",
    "    :return: retorna 3 elementos, primeramente el valor de 'delta energia' el cual corresponde a la diferencia\n",
    "    de energia entre el estado 2 y el estado 1, seguidamente los valores de estado 2 y estado 1.\n",
    "    '''\n",
    "    estado1 = np.copy(estados[-1])\n",
    "    estado2 = np.copy(estados[-1])\n",
    "    espinAleatorio = cambioEspin()\n",
    "    if estado2[espinAleatorio] == 0:\n",
    "        estado2[espinAleatorio] =  1\n",
    "    else:\n",
    "        estado2[espinAleatorio] = 0\n",
    "    energia1 = calculoDeEnergia(estado1)\n",
    "    energia2 = calculoDeEnergia(estado2)\n",
    "    deltaE = energia2 - energia1\n",
    "    return deltaE, estado2, estado1\n",
    "\n",
    "\n",
    "#Algoritmo Metropolis\n",
    "def nuevoEstado():\n",
    "    '''\n",
    "\n",
    "    :return: retorna un arreglo con un nuevo estado.\n",
    "    '''\n",
    "    global estados\n",
    "    deltaE, estadoPosible, estadoViejo = calculoDeltaE()\n",
    "    if deltaE <= 0:\n",
    "        estados = np.concatenate((estados, [estadoPosible]), axis=0)\n",
    "    elif metropolisAuxiliar(deltaE):\n",
    "        estados = np.concatenate((estados, [estadoPosible]), axis=0)\n",
    "    else:\n",
    "        estados = np.concatenate((estados, [estadoViejo]), axis=0)\n",
    "\n",
    "\n",
    "def metropolisAuxiliar(deltaE):\n",
    "    '''\n",
    "    :param deltaE: delta de energio calculado con la funcion calculoDeltaE\n",
    "    :return: retorna true en caso de que el numeroAleatorio calculado sea menor al valor R, false en el caso contrario.\n",
    "    '''\n",
    "    numeroAleatorio = np.random.random()\n",
    "    R = np.exp(-deltaE / kBT)\n",
    "    if numeroAleatorio <= R:\n",
    "        return True\n",
    "    else:\n",
    "        return False\n",
    "\n",
    "\n",
    "def graficarPasos(numeroPasos):\n",
    "    '''\n",
    "    :param numeroPasos: cantidad de pasos que desea realizar.\n",
    "    :return: grafuca cada uno de los estados, para cada paso.\n",
    "    '''\n",
    "    for i in range(numeroPasos):\n",
    "        nuevoEstado()\n",
    "    fig, ax = plt.subplots()\n",
    "    fig.set_size_inches(10, 10)\n",
    "    ax.matshow(np.transpose(estados))\n",
    "    plt.show()"
   ]
  },
  {
   "cell_type": "code",
   "execution_count": 5,
   "metadata": {
    "pycharm": {
     "name": "#%%\n"
    },
    "scrolled": false
   },
   "outputs": [
    {
     "data": {
      "text/plain": "<Figure size 720x720 with 1 Axes>",
      "image/png": "[encoded data removed]"
     },
     "metadata": {
      "needs_background": "light"
     },
     "output_type": "display_data"
    }
   ],
   "source": [
    "definirParametrosGlobales(kBT1 = 1, orinentacion=1)\n",
    "graficarPasos(1000)"
   ]
  },
  {
   "cell_type": "code",
   "execution_count": 21,
   "metadata": {
    "pycharm": {
     "name": "#%%\n"
    }
   },
   "outputs": [],
   "source": [
    "def calculoMagnetizacion(arregloEspines):\n",
    "    '''\n",
    "    :param arregloEspines: arreglo de espines previamente definido\n",
    "    :return: el valor absoluto de la suma de cada elemento del arreglo de espines.\n",
    "    '''\n",
    "    resultado = 0\n",
    "    for i in arregloEspines:\n",
    "        resultado += i\n",
    "    resultado = np.abs(resultado)\n",
    "    return resultado\n",
    "\n",
    "\n",
    "def energiaInterna(matrizEspines):\n",
    "    '''\n",
    "    :param matrizEspines: matriz con los espines de una dimension definida anteriormente.\n",
    "    :return: retorna el promedio de este arreglo de espines.\n",
    "    '''\n",
    "    resultado = np.average(matrizEspines)\n",
    "    return resultado\n",
    "\n",
    "def calculoU2(matrizEspines):\n",
    "    '''\n",
    "    :param matrizEspines: matriz de espines previamente definida.\n",
    "    :return: retorna el promedio de la matriz de espines al cuadrado.\n",
    "    '''\n",
    "    resultado = matrizEspines**2\n",
    "    resultado = np.average(resultado)\n",
    "    return resultado\n",
    "\n",
    "def calculoC(arregloEspines):\n",
    "    '''\n",
    "    :param arregloEspines: arreglo de espies definido anteriormente.\n",
    "    :return: calor especifico\n",
    "    '''\n",
    "    u2 = calculoU2(arregloEspines)\n",
    "    u = energiaInterna(arregloEspines)\n",
    "    resultado = (u2 - u**2) / kBT**2\n",
    "    return resultado\n",
    "\n",
    "def calculoArregloC(matrizEspines):\n",
    "    '''\n",
    "    :param matrizEspines: matriz de espines\n",
    "    :return: calculo del calor especifico para cada\n",
    "    '''\n",
    "    resultado = []\n",
    "    numeroIteraciones, longitudArreglo = np.shape(matrizEspines)\n",
    "    for nArreglo in range(numeroIteraciones):\n",
    "        resultado += [calculoC(matrizEspines[nArreglo]) / (nArreglo**2)]\n",
    "    print(\"resultado:\")\n",
    "    print(resultado)\n",
    "    return resultado\n"
   ]
  },
  {
   "cell_type": "code",
   "execution_count": 22,
   "metadata": {
    "pycharm": {
     "name": "#%%\n"
    }
   },
   "outputs": [
    {
     "data": {
      "text/plain": "<Figure size 432x288 with 1 Axes>",
      "image/png": "[encoded data removed]"
     },
     "metadata": {
      "needs_background": "light"
     },
     "output_type": "display_data"
    },
    {
     "data": {
      "text/plain": "<Figure size 432x288 with 1 Axes>",
      "image/png": "[encoded data removed]"
     },
     "metadata": {
      "needs_background": "light"
     },
     "output_type": "display_data"
    }
   ],
   "source": [
    "def parametrosSimulacion(kbt = 10, nPasos = 1000):\n",
    "    '''\n",
    "    :param kbt: Constante de Boltzmann mutiplicado por temperatura cuadrada.\n",
    "    :param nPasos: pasos que se desean realizar en la simulacion.\n",
    "    :return: Calculo de la magnetizacion y calculo de la energia interna de la simulacion.\n",
    "    '''\n",
    "    definirParametrosGlobales(kBT1=kbt, orinentacion=2)\n",
    "    for i in range(nPasos):\n",
    "        nuevoEstado()\n",
    "    magnetizacion = []\n",
    "    energia = []\n",
    "    for arreglo in estados:\n",
    "        magnetizacion += [calculoMagnetizacion(arreglo)]\n",
    "        energia += [energiaInterna(arreglo)]\n",
    "    return magnetizacion, energia\n",
    "\n",
    "def buscandoEquilibrio():\n",
    "    '''\n",
    "    :return: Grafica de la busqueda de equilibrio.\n",
    "    '''\n",
    "    magnetizacion, energia = parametrosSimulacion(kbt=1)\n",
    "    fig1, ax1 = plt.subplots()\n",
    "    ax1.plot(magnetizacion)\n",
    "    fig2, ax2 = plt.subplots()\n",
    "    ax2.plot(energia)\n",
    "    plt.show()\n",
    "\n",
    "buscandoEquilibrio()"
   ]
  },
  {
   "cell_type": "code",
   "execution_count": 23,
   "metadata": {
    "pycharm": {
     "name": "#%%\n"
    }
   },
   "outputs": [],
   "source": [
    "def calcularEEquilibrio(matrizEnergias):\n",
    "    matrizEnergias = matrizEnergias[500:]\n",
    "    resultado = np.average(matrizEnergias)\n",
    "    return resultado\n",
    "\n",
    "def calcularMEquilibrio(matrizMagnetizacion):\n",
    "    matrizMagnetizacion = matrizMagnetizacion[500:]\n",
    "    resultado = np.average(matrizMagnetizacion)\n",
    "    return resultado"
   ]
  },
  {
   "cell_type": "code",
   "execution_count": 24,
   "metadata": {
    "pycharm": {
     "name": "#%%\n"
    }
   },
   "outputs": [
    {
     "data": {
      "text/plain": "(83.12998007968129, 0.8312998007968128)"
     },
     "execution_count": 24,
     "metadata": {},
     "output_type": "execute_result"
    }
   ],
   "source": [
    "def calcularEquilibrio(nSimulaciones, kbt=1):\n",
    "    U = []\n",
    "    M = []\n",
    "    for i in range(nSimulaciones):\n",
    "        magnetizacion, energia = parametrosSimulacion(kbt = kbt)\n",
    "        U += [calcularEEquilibrio(energia)]\n",
    "        M += [calcularMEquilibrio(magnetizacion)]\n",
    "    resultadoM = np.average(M)\n",
    "    resultadoU = np.average(U)\n",
    "    return resultadoM, resultadoU\n",
    "\n",
    "\n",
    "calcularEquilibrio(20)"
   ]
  },
  {
   "cell_type": "code",
   "execution_count": 25,
   "metadata": {
    "pycharm": {
     "name": "#%%\n"
    }
   },
   "outputs": [
    {
     "data": {
      "text/plain": "<Figure size 432x288 with 1 Axes>",
      "image/png": "[encoded data removed]"
     },
     "metadata": {
      "needs_background": "light"
     },
     "output_type": "display_data"
    },
    {
     "data": {
      "text/plain": "<Figure size 432x288 with 1 Axes>",
      "image/png": "[encoded data removed]"
     },
     "metadata": {
      "needs_background": "light"
     },
     "output_type": "display_data"
    }
   ],
   "source": [
    "def configuraciones():\n",
    "    U = []\n",
    "    M = []\n",
    "    listaKbt = np.arange(0.000001, 5, 0.1)\n",
    "    for kb in listaKbt:\n",
    "        resM, resU = calcularEquilibrio(20, kbt = kb)\n",
    "        U += [resU]\n",
    "        M += [resM]\n",
    "    fig1, ax1 = plt.subplots()\n",
    "    fig2, ax2 = plt.subplots()\n",
    "    ax1.plot(listaKbt, U)\n",
    "    ax2.plot(listaKbt, M)\n",
    "    plt.show()\n",
    "configuraciones()"
   ]
  },
  {
   "cell_type": "code",
   "execution_count": null,
   "metadata": {
    "pycharm": {
     "name": "#%%\n"
    }
   },
   "outputs": [],
   "source": []
  }
 ],
 "metadata": {
  "kernelspec": {
   "display_name": "Python 3",
   "language": "python",
   "name": "python3"
  },
  "language_info": {
   "codemirror_mode": {
    "name": "ipython",
    "version": 3
   },
   "file_extension": ".py",
   "mimetype": "text/x-python",
   "name": "python",
   "nbconvert_exporter": "python",
   "pygments_lexer": "ipython3",
   "version": "3.8.8"
  }
 },
 "nbformat": 4,
 "nbformat_minor": 1
}