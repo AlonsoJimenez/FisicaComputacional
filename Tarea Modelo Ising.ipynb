{
 "cells": [
  {
   "cell_type": "code",
   "execution_count": 123,
   "metadata": {
    "collapsed": true
   },
   "outputs": [],
   "source": [
    "import matplotlib.pyplot as plt\n",
    "import numpy as np\n",
    "import scipy\n"
   ]
  },
  {
   "cell_type": "markdown",
   "source": [
    "Modelo Ising 1D"
   ],
   "metadata": {
    "collapsed": false,
    "pycharm": {
     "name": "#%% md\n"
    }
   }
  },
  {
   "cell_type": "code",
   "execution_count": 124,
   "outputs": [],
   "source": [
    "#Definimos parametros\n",
    "\n",
    "J = 1\n",
    "nEspines = 100\n",
    "kBT = 1\n",
    "\n",
    "#Iniciamos el arreglo de entradas\n",
    "arregloEspines = np.ones(nEspines)\n",
    "arregloEspines = arregloEspines * 1/2\n",
    "estados = arregloEspines\n",
    "estados  = np.concatenate(([estados],[arregloEspines]), axis=0)\n",
    "\n"
   ],
   "metadata": {
    "collapsed": false,
    "pycharm": {
     "name": "#%%\n"
    }
   }
  },
  {
   "cell_type": "code",
   "execution_count": 125,
   "outputs": [],
   "source": [
    "def calculoDeEnergia(arregloEspines):\n",
    "    energiaVector = 0\n",
    "    for i in range(arregloEspines.size-1):\n",
    "        if i == arregloEspines.size-1:\n",
    "            energiaVector += arregloEspines[i] * arregloEspines[0]\n",
    "        else:\n",
    "            energiaVector += arregloEspines[i] * arregloEspines[i+1]\n",
    "\n",
    "    return -J    * energiaVector\n",
    "\n",
    "\n",
    "def cambioEspin():\n",
    "    espin = np.random.randint(low = 0, high = nEspines-1)\n",
    "    return espin\n",
    "\n",
    "\n",
    "def calculoDeltaE():\n",
    "    estado1 = estados[-1]\n",
    "    estado2 = estados[-1]\n",
    "    espinAleatorio = cambioEspin()\n",
    "    estado2[espinAleatorio] =  estado2[espinAleatorio] * -1\n",
    "    energia1 = calculoDeEnergia(estado1)\n",
    "    energia2 = calculoDeEnergia(estado2)\n",
    "    deltaE = energia2 - energia1\n",
    "    return deltaE, estado2, estado1\n",
    "\n",
    "\n",
    "#Algoritmo Metropolis\n",
    "def nuevoEstado():\n",
    "    global estados\n",
    "    deltaE, estadoPosible, estadoViejo = calculoDeltaE()\n",
    "    if deltaE >= 0:\n",
    "        estados = np.concatenate((estados, [estadoPosible]), axis=0)\n",
    "    elif metropolisAuxiliar(deltaE):\n",
    "        estados = np.concatenate((estados, [estadoPosible]), axis=0)\n",
    "    else:\n",
    "        estados = np.concatenate((estados, [estadoViejo]), axis=0)\n",
    "\n",
    "\n",
    "def metropolisAuxiliar(deltaE):\n",
    "    numeroAleatorio = np.random.random()\n",
    "    R = np.exp(-deltaE / kBT)\n",
    "    if numeroAleatorio <= R:\n",
    "        return True\n",
    "    else:\n",
    "        return False\n",
    "\n",
    "def graficarPasos(numeroPasos):\n",
    "    for i in range(numeroPasos):\n",
    "        nuevoEstado()\n",
    "    fig, ax = plt.subplots(dpi = 100)\n",
    "    ax.matshow(np.transpose(estados))\n",
    "    fig.set_figwidth(9)\n",
    "    fig.set_figheight(15)\n",
    "    plt.show()"
   ],
   "metadata": {
    "collapsed": false,
    "pycharm": {
     "name": "#%%\n"
    }
   }
  },
  {
   "cell_type": "code",
   "execution_count": 126,
   "outputs": [
    {
     "data": {
      "text/plain": "<Figure size 900x1500 with 1 Axes>",
      "image/png": "[encoded data removed]"
     },
     "metadata": {
      "needs_background": "light"
     },
     "output_type": "display_data"
    }
   ],
   "source": [
    "graficarPasos(1000)"
   ],
   "metadata": {
    "collapsed": false,
    "pycharm": {
     "name": "#%%\n"
    }
   }
  },
  {
   "cell_type": "code",
   "execution_count": 126,
   "outputs": [],
   "source": [],
   "metadata": {
    "collapsed": false,
    "pycharm": {
     "name": "#%%\n"
    }
   }
  },
  {
   "cell_type": "code",
   "execution_count": 126,
   "outputs": [],
   "source": [],
   "metadata": {
    "collapsed": false,
    "pycharm": {
     "name": "#%%\n"
    }
   }
  }
 ],
 "metadata": {
  "kernelspec": {
   "display_name": "Python 3",
   "language": "python",
   "name": "python3"
  },
  "language_info": {
   "codemirror_mode": {
    "name": "ipython",
    "version": 2
   },
   "file_extension": ".py",
   "mimetype": "text/x-python",
   "name": "python",
   "nbconvert_exporter": "python",
   "pygments_lexer": "ipython2",
   "version": "2.7.6"
  }
 },
 "nbformat": 4,
 "nbformat_minor": 0
}