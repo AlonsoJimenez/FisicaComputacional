{
 "cells": [
  {
   "cell_type": "markdown",
   "metadata": {
    "collapsed": true,
    "pycharm": {
     "name": "#%% md\n"
    }
   },
   "source": [
    "Definimos las variables con las que se trabajara el ejercicio\n",
    "\n",
    "X(0) = 1\n",
    "X'(0) = 0\n"
   ]
  },
  {
   "cell_type": "markdown",
   "source": [
    "Solución de EDP por medio de dos EDOs simultaneas ordinarias siguiendo los pasos de Poyla. La EDP fue adelantada hasta la etapa de separación de variables."
   ],
   "metadata": {
    "collapsed": false,
    "pycharm": {
     "name": "#%% md\n"
    }
   }
  },
  {
   "cell_type": "markdown",
   "source": [
    "Paso 1.\n",
    "En este paso notamos que requerimos la solución a dos ecuaciones diferenciales ordnarias relacionadas, es decir requerimos tanto la solución de X' como de X, ambas soluciones en el dominio espacial de x. Para esto entonces recurrimos a una solución numérica de dos ecuaciones simultaneas por medio de el metodo de Runge-Kutta 4 en la librería de scipy como integrate.solve_ivp con el parametro method='RK45' para que la solución preferible del sistema. Definimos entonces las EDOs simultaneas por medio de la función de python EDO donde retornará un arreglo que será equivalente a un arreglo smultaneo a resolver de X(x) y de X'(x). Es importante notar que en el enunciado del problema se nos dan las condiciones frontera e iniciales adecuadas para resolver numéricamente este tipo de ecuación diferencial según la tabla dada por Landau, Paez, etc."
   ],
   "metadata": {
    "collapsed": false,
    "pycharm": {
     "name": "#%% md\n"
    }
   }
  },
  {
   "cell_type": "code",
   "execution_count": 48,
   "outputs": [],
   "source": [
    "#Llamaremos a X'' como y[2], X' como y[1] y x como y[0]\n",
    "\n",
    "def EDO(x, y):\n",
    "    '''\n",
    "\n",
    "    :param x: Este parametro es necesario contemplarlo para la solucion de la biblioteca de scipy, sin embargo no es utilizada en las EDOs\n",
    "    :param y: son los valores de arreglo para las EDOs simultaneas\n",
    "    :return: Devuelve un arreglo de las funciones dadas para resolver\n",
    "    '''\n",
    "    k = 1\n",
    "    return [y[1],  -k**2 * y[0]]"
   ],
   "metadata": {
    "collapsed": false,
    "pycharm": {
     "name": "#%%\n"
    }
   }
  },
  {
   "cell_type": "markdown",
   "source": [
    "Paso 2.\n",
    "Configuramos el plan de solución de con una lista de tareas a resolver que iremos adelantando y trabajando en el siguiente orden correspondiente:\n",
    "\n",
    "1- Realizar la separación de variables\n",
    "2- Solucionar cada EDOs de forma simultanea\n",
    "3- Definir el arreglo de ecuaciones a resolver\n",
    "4- Programar la solución por medio de la librería de solve_ivp usando el metodo de Runge-Kuuta 45\n",
    "5- Guardar los resultados numéricos en listas para encontrar errores\n",
    "6- Notar que solve_ivp grafica con menos puntos de los necesarios e iterar dicho código\n",
    "7- Graficar ambas funciones en dominio espacial\n",
    "8- Agregar rotulaciones\n",
    "9- Comparar con la solución dada por el profesor\n",
    "10- Modificar e iterar el código hasta la depuración deseada"
   ],
   "metadata": {
    "collapsed": false,
    "pycharm": {
     "name": "#%% md\n"
    }
   }
  },
  {
   "cell_type": "code",
   "execution_count": 49,
   "outputs": [],
   "source": [
    "from scipy import integrate\n",
    "import numpy as np\n",
    "import matplotlib.pyplot as plt\n",
    "\n",
    "\n",
    "def solucionEDO2(x0, xLimit, y01, y02, h = 0.1):\n",
    "    '''\n",
    "\n",
    "    :param x0: parametro del dominio espacial inicial\n",
    "    :param xLimit: parametro de longitud espacial\n",
    "    :param y01: condicion de Dirichlet dada por el enunciado\n",
    "    :param y02: condicion de Neumann dada por el enunciado\n",
    "    :param h: parametro opcional del espaciado espacial entre soluciones de las ecuaciones\n",
    "    :return: un arreglo de las soluciones EDO mas el dominio espacial del problema\n",
    "    '''\n",
    "    resultado = integrate.solve_ivp(fun=EDO, t_span=[x0, xLimit], y0=[y02, y01], method='RK45', t_eval = np.arange(x0, xLimit, h))\n",
    "    return [resultado.y[0], resultado.y[1], resultado.t]\n"
   ],
   "metadata": {
    "collapsed": false,
    "pycharm": {
     "name": "#%%\n"
    }
   }
  },
  {
   "cell_type": "markdown",
   "source": [
    "Paso 3.\n",
    "Ejecución del plan:\n",
    "Una vez implementado las etapas anteriores del código debemos almacenar los valores dados por medio de listas y separarlos para poder realizar su graficación como se muestra a continuación. Graficamos en dominio espacial en los puntos seleccionados por t_eval del parámetro de solve_ivp de la librería de scipy.integrate. Iteramos los puntos deseados y comparamos como una función sí es la derivada de la otra ya que en pendiente 0,la amplitud es máxima."
   ],
   "metadata": {
    "collapsed": false,
    "pycharm": {
     "name": "#%% md\n"
    }
   }
  },
  {
   "cell_type": "code",
   "execution_count": 50,
   "outputs": [
    {
     "data": {
      "text/plain": "<Figure size 432x288 with 1 Axes>",
      "image/png": "[encoded data removed]"
     },
     "metadata": {
      "needs_background": "light"
     },
     "output_type": "display_data"
    }
   ],
   "source": [
    "#Guardamos las listas de los resultados a graficar en las siguientes listas\n",
    "#ys contiene toda la informacion, y0S es la solucion a X(0) y y1S es la solucion a X'(0)\n",
    "ys = solucionEDO2(0, 10, 1, 0)\n",
    "y0S = ys[0]\n",
    "y1S = ys[1]\n",
    "\n",
    "#Graficamos las soluciones segun lo solicitado, noytyamos el dominio espacial es dado por el tercer obejeto en la lista de ys\n",
    "fig = plt.figure()\n",
    "plt.plot( ys[2],y0S, 'b.-', label=\"$X'(x)$\")\n",
    "plt.plot( ys[2],y1S, 'r-', label=\"$X(x)$\")\n",
    "plt.xlabel(\"x (m)\")\n",
    "plt.grid(True)\n",
    "plt.title(\"Solucion de EDO segundo orden $X''(x) = -k^2X(x)$\")\n",
    "plt.legend(loc='upper right')\n",
    "plt.show()"
   ],
   "metadata": {
    "collapsed": false,
    "pycharm": {
     "name": "#%%\n"
    }
   }
  },
  {
   "cell_type": "markdown",
   "source": [
    "Paso 4.\n",
    "Mirando hacia atras podemos obsevar como la solción graficada es para un ojo humano no calibrado es literarmente igual a la solución que normalmente estamos acostumbrados de una onda electromagnética. Por otro lado al realizar una separación de variables es posible solucionar la parte temporal. Esto queda como una posible iteración a futuro para seguir practicando con dichas soluciones."
   ],
   "metadata": {
    "collapsed": false,
    "pycharm": {
     "name": "#%% md\n"
    }
   }
  },
  {
   "cell_type": "markdown",
   "source": [],
   "metadata": {
    "collapsed": false,
    "pycharm": {
     "name": "#%% md\n"
    }
   }
  }
 ],
 "metadata": {
  "kernelspec": {
   "display_name": "Python 3",
   "language": "python",
   "name": "python3"
  },
  "language_info": {
   "codemirror_mode": {
    "name": "ipython",
    "version": 2
   },
   "file_extension": ".py",
   "mimetype": "text/x-python",
   "name": "python",
   "nbconvert_exporter": "python",
   "pygments_lexer": "ipython2",
   "version": "2.7.6"
  }
 },
 "nbformat": 4,
 "nbformat_minor": 0
}