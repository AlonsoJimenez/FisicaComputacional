{
 "cells": [
  {
   "cell_type": "markdown",
   "metadata": {
    "collapsed": true,
    "pycharm": {
     "name": "#%% md\n"
    }
   },
   "source": [
    "Problema 1:\n",
    "Paso 1.\n",
    "En este paso primero analizamos la siguiente lista de materiales:\n",
    "Para resolver este modelo debemos entender primeramenet que se nos pide analizar el funcionamiento de una ecuación diferencial ordinaria que describe la velocidad de objeto en caída libre, sujeto a una velocidad máxima o terminal debido ala fricción con el fluido del medio. Debemos encontrar una serie de pasos iniciales como se enumeran a continuación.\n",
    "-Sabemos como ejecutar el metodo de Runge-Kutta cuarto orden con la librería de Scipy\n",
    "-Entendemos la solución se trata de una aproximación numérica que puede ser comparada con la solución analítica que se puede resolver con la solución de una ecuación diferencial lineal ordinaria de primer orden.\n",
    "-Definimos las variables dadas para la solución del problema.\n",
    "El código es visto ante las complicaciones de la comparación con la analítica. Iterar o depurar el código en soluciones tan delicadas puede llevar a un camino largo y tedioso."
   ]
  },
  {
   "cell_type": "code",
   "execution_count": 1,
   "outputs": [],
   "source": [
    "import matplotlib.pyplot as plt\n",
    "import numpy as np\n",
    "from scipy import integrate\n",
    "\n",
    "#Definimos las constantes del problema en esta sección del cuaderno donde se pueden cambiar o iterar para su funcionamiento.\n",
    "pf = 7.874 #(g/cm^3)\n",
    "p = 1.26 #(g/cm^3)\n",
    "g = 9.8 #(m/s^2)\n",
    "a = 10 #(s^1)"
   ],
   "metadata": {
    "collapsed": false,
    "pycharm": {
     "name": "#%%\n"
    }
   }
  },
  {
   "cell_type": "markdown",
   "source": [
    "Paso 2.\n",
    "Dentro del lenguaje de programación de Python existe la posibilidad de implementar Scipy.integrate.solve_ivp(), sabemos que posiblemente existan más bibliotecas capaces de realizar el procedimiento de Runge-Kutta de cuarto orden, sin embargo utilizamos las bibliotecas estandar, que son Scipy y Numpy. donde se puede seleccionar el metodo de Runge-Kutta 4 por la ejecución de 'RK45'. Utilizamos esta función para resolver la ecuación diferencial. Definimos la ecuación y una función que será utilizada para resolver la ecuación diferencial dada basado en los parametros seleccionados por el usuario. Los resultados serán retornados en una lista o arreglo de la librería numpy que se puede utilizar para realizar procedimientos matemáticos de manera más cómoda. Para esta solución al ser numérica se debe graficar y comparar con la solución analítica para poder ser analizada."
   ],
   "metadata": {
    "collapsed": false,
    "pycharm": {
     "name": "#%% md\n"
    }
   }
  },
  {
   "cell_type": "code",
   "execution_count": 2,
   "outputs": [],
   "source": [
    "#Definimos la ecuación diferencial ordinaria a resolver.\n",
    "def EDO(t, y):\n",
    "    '''\n",
    "\n",
    "    :param t: parametro necesario para solve_ivp, no es utilizado en este caso\n",
    "    :param y: parametro de velocidad para la solucion de la EDO\n",
    "    :return: Ecuacion devuelve el resutado de la ecuacion diferencial ordinaria evaluada.\n",
    "    '''\n",
    "    result = ((p - pf) * g / p) - a * y\n",
    "    return result\n",
    "\n",
    "#Por medio de la ejecución de esta función se resuelve la ecuación diferencial EDO.\n",
    "def solveEDO(t0, v0, tLimit, h):\n",
    "    '''\n",
    "\n",
    "    :param t0: tiempo inicial el valor numerico\n",
    "    :param v0: valor de la velocidad en el tiempo inicial indicado\n",
    "    :param tLimit: parametro evalua hasta donde se detiene la evaluacion numerica\n",
    "    :param h: paso de iteracion para solucion numerica de EDO\n",
    "    :return: una lista con los valores numericos de la EDO resulta\n",
    "    '''\n",
    "    resultado = integrate.solve_ivp(fun = EDO, method ='RK45', t_span = (t0, tLimit), y0 = [v0,], t_eval = np.arange(t0, tLimit, h))\n",
    "    return resultado.y[0]\n"
   ],
   "metadata": {
    "collapsed": false,
    "pycharm": {
     "name": "#%%\n"
    }
   }
  },
  {
   "cell_type": "markdown",
   "source": [
    "Paso 3.\n",
    "Al ejecutar el plan ejecutamos las funciones programadas para la solución del problema. Por otro lado guardamos las soluciones en los puntos deseados en dos variables que convenientemente llamaremos v y t. Para la solución analítica programamos otra función y la ejecutamos en los mismos puntos donde se analiza la solución numérica de Runge-Kutta 45. Esta solución analítica se guardará en la variable que será llamada vAnalitica0."
   ],
   "metadata": {
    "collapsed": false,
    "pycharm": {
     "name": "#%% md\n"
    }
   }
  },
  {
   "cell_type": "code",
   "source": [
    "#Por medio de las siguientes variables guardamos los parametros donde se haran listas de los resultados tanto de el dominio temporal como la velocidad\n",
    "t = np.arange(0, 1, 0.05)\n",
    "v = solveEDO(0, 0, 1, 0.05)\n",
    "\n",
    "#Por medio de la siguiente funcion encontramos la solucion analitica evaluada en los mismos puntos del dominio temporal\n",
    "def vAnalitica(t):\n",
    "    '''\n",
    "\n",
    "    :param t: parametro de la lista de valores en arreglo Numpy para evaluar por medio de la ecuacion analitica de la solucion\n",
    "    :return: valor del resultado analitico para la ecuacion dada por la velocidad\n",
    "    '''\n",
    "    resultado = (7.874-1.26) * np.exp(-10*t) - (7.874-1.26)\n",
    "    return resultado\n",
    "\n",
    "vAnalitica0 = vAnalitica(t)"
   ],
   "metadata": {
    "collapsed": false,
    "pycharm": {
     "name": "#%%\n"
    }
   },
   "execution_count": 3,
   "outputs": []
  },
  {
   "cell_type": "markdown",
   "source": [
    "Paso 4.\n",
    "Notamos en primer lugar la gran similitud al analizar la gráfica que lleva tanto la solución analítica como la numérica pero como difieren hacia el final de la gráfica, existe la posibilidad que ambas soluciones hayan llegado a una asintota distinta o velocidad terminal distinta lo que sugiere más que un error con nuestro metodo, un error en nuestros valores de entrada de solución. Agregamos como comentario que esta ecuación diferencial puede ser ampliada a cambios de varios tipos que aproximamos. Por ejemplo el cambio de la densidad en base al cambio de la gravedad en base a la altura recorrida, el hecho de tomar en cuenta que el objeto es completamento esférico para que se acople a la ecuación. Diferentes formas de los objetos afectan de distintas maneras la fricción que puede ser distinta a alpha por la velocidad dada por la ecuación."
   ],
   "metadata": {
    "collapsed": false,
    "pycharm": {
     "name": "#%% md\n"
    }
   }
  },
  {
   "cell_type": "code",
   "execution_count": 4,
   "outputs": [
    {
     "data": {
      "text/plain": "<Figure size 432x288 with 1 Axes>",
      "image/png": "[encoded data removed]"
     },
     "metadata": {
      "needs_background": "light"
     },
     "output_type": "display_data"
    }
   ],
   "source": [
    "#Graficamos la la solucion analitica y numerica para comparar los resultados.\n",
    "fig = plt.figure()\n",
    "plt.plot( t, vAnalitica0, 'b.-', label=\"Solución Analítica\")\n",
    "plt.plot( t, v, 'r-', label=\"Solución numérica\")\n",
    "plt.xlabel(\"t (s)\")\n",
    "plt.ylabel(\"v $(m/s)$\")\n",
    "plt.grid(True)\n",
    "plt.title(\"Solucion de ecuación de velocidad\")\n",
    "plt.legend(loc='upper right')\n",
    "plt.show()"
   ],
   "metadata": {
    "collapsed": false,
    "pycharm": {
     "name": "#%%\n"
    }
   }
  },
  {
   "cell_type": "markdown",
   "source": [
    "Problema 2.\n",
    "Paso 1.\n",
    "Para la solución de este problema identificamos como se trata de la solución al encontrar la densidad basada en la altura sin especificar datos especificos para el planeta pero dada la información que incluiremos en la solución se trata de planeta Tierra. Notamos que esto se trata de una Ecuación Diferencial ordinaria al evualuar una función en la otra. Vemos como la temperatura depende de la altura, la densidad depende de la temperatura, a su vez la altura y la misma presion y el cambio de presión depende de la densidad. Es decir la derivada respecto a la densidad depende de la misma densidad. Este ejercicio entonces se debe resolver por medio de una solución numérica con la que contamos con toda la información necesaria para modelar el mismo. Deseamos llegar a una gráfica donde la densidad dependa de la altura."
   ],
   "metadata": {
    "collapsed": false,
    "pycharm": {
     "name": "#%% md\n"
    }
   }
  },
  {
   "cell_type": "code",
   "execution_count": 5,
   "outputs": [],
   "source": [
    "import matplotlib.pyplot as plt\n",
    "import numpy as np\n",
    "from scipy import integrate\n",
    "\n",
    "#Definimos las constantes del problema en esta sección del cuaderno donde se pueden cambiar o iterar para su funcionamiento.\n",
    "M = 0.0289647 #(kg/mol)\n",
    "R = 8.314462 #(J/mol k)\n",
    "g = 9.8 #(m/s^2)"
   ],
   "metadata": {
    "collapsed": false,
    "pycharm": {
     "name": "#%%\n"
    }
   }
  },
  {
   "cell_type": "markdown",
   "source": [
    "Paso 2.\n",
    "Para encontrar la solución de este problema de la densidad una vez entendido el objetivo de comparar los resultados analíticos y numéricos para una misma ecuación diferencial ordinaria entonces redactamos la siguiente lista que resume los puntos más importantes por completar.\n",
    "-Definir las variables del problema con las unidades adecuadas para la comparación de resultados.\n",
    "-Definir las ecuaciones que se deben usar para evaluar la EDO.\n",
    "-Definir una función que logre resolver EDO.\n",
    "-Guardar una lista del dominio espacial para evualuar solución numérica.\n",
    "-Encontrar la solución analítica por medio de herramientas como Wolfram-Alpha.\n",
    "-Encontrar la solución numérica en los mismos puntos del dominio espacial definidos.\n",
    "-Guardar ambos resultados y graficarlos para su comparación."
   ],
   "metadata": {
    "collapsed": false,
    "pycharm": {
     "name": "#%% md\n"
    }
   }
  },
  {
   "cell_type": "code",
   "execution_count": 6,
   "outputs": [],
   "source": [
    "#Definimos la temperatura en base a la altura\n",
    "def T(y):\n",
    "    '''\n",
    "\n",
    "    :param y: Parametro de la altura a evaluar para temperatura\n",
    "    :return: Devuelve un valor para la temperatura\n",
    "    '''\n",
    "    result = 293 - (y / 200)\n",
    "    return result\n",
    "\n",
    "#Definimos la función de la presión en base a la altura\n",
    "def densidad(y, p):\n",
    "    '''\n",
    "\n",
    "    :param y: Parametro de la altura para encontrar el valor de la densidad\n",
    "    :param p: Parametro de la presion para encontrar la densidad\n",
    "    :return: Retorna valor numerico de la densidad\n",
    "    '''\n",
    "    temperatura = T(y)\n",
    "    denominador = (R * temperatura)\n",
    "    result = M * p / denominador\n",
    "    return result\n",
    "\n",
    "#Definimos la ecuación diferencial ordinaria a resolver.\n",
    "def EDO2(y, p):\n",
    "    '''\n",
    "\n",
    "    :param y: Parametro altura que funcionara como x caundo sea evaluado por solve_ivp\n",
    "    :param p: parametro de presion que funcionara como y cuando sea evauluado por solve_ivp\n",
    "    :return: retorna el valor de la ecuacion diferencial ordinaria evualuada numericamente\n",
    "    '''\n",
    "    den = densidad(y, p)\n",
    "    result = -den * g\n",
    "    return result\n",
    "\n",
    "#Por medio de la ejecución de esta función se resuelve la ecuación diferencial EDO.\n",
    "def solveEDOAtm(y0, p0, yLimit, h):\n",
    "    '''\n",
    "\n",
    "    :param y0: parametro de altura inicila a evaluar\n",
    "    :param p0: presion en la altura inicial dada\n",
    "    :param yLimit: parametro de parada para la altura maxima a evaluar\n",
    "    :param h: espacio entre iteracion de la solucion numerica de la ecuacion\n",
    "    :return: retorna una lista de tipo Numpy con la solucion numerica para la EDO\n",
    "    '''\n",
    "    resultado = integrate.solve_ivp(fun = EDO2, method ='RK45', t_span = [y0, yLimit], y0 = [p0], t_eval = np.arange(y0, yLimit, h))\n",
    "    return resultado.y[0]"
   ],
   "metadata": {
    "collapsed": false,
    "pycharm": {
     "name": "#%%\n"
    }
   }
  },
  {
   "cell_type": "markdown",
   "source": [
    "Paso 3.\n",
    "Para la preparación de este código el mayor desfío fue depurar el hecho que existiera una inconsistencia en las unidades dadas por el enunciado, fue importante notar este para corregir el factor multiplicador y encontrar un resultado que tuviese sentido según estimaciones encontradad en internet. Fue utilizada la biblioteca científica de Scipy para resolver el problema dado de EDO por el Runge-Kutta de cuarto orden. La solución analítica fue implementada por medio de una función que evalua y arroja el resultado necesitado. Esta solución es evaluada por medio de una lista de conjuntos en el dominio espacial donde se quiere tomar una mustra suficientemente densa para observar el comportamiento de la ecuación en límites definidos, mismos puntos son utilizados para encontrar la solución de numérica de la EDO. Todos estos resultados son guardados en listas para luego ser graficados."
   ],
   "metadata": {
    "collapsed": false,
    "pycharm": {
     "name": "#%% md\n"
    }
   }
  },
  {
   "cell_type": "code",
   "execution_count": 7,
   "outputs": [],
   "source": [
    "#Guardamos los paramtetros del dominio espacial de altura y la presion en las listas respectivas a continuacion\n",
    "y = np.arange(0, 3000, 100)\n",
    "p = solveEDOAtm(0, 101325, 3000, 100)\n",
    "\n",
    "def solAnalitica(y):\n",
    "    '''\n",
    "\n",
    "    :param y: altura a evaluar\n",
    "    :return: la solucion analitica de la presion a la altura dada\n",
    "    '''\n",
    "    resultado = 2.82295 * 10**-28 * (58600 - y)**6.82796\n",
    "    return resultado\n",
    "\n",
    "#Guardamos la solucion analitica evaluada en el mismo dominio espacial en la siguiente lista\n",
    "pAnalitica = solAnalitica(y)\n"
   ],
   "metadata": {
    "collapsed": false,
    "pycharm": {
     "name": "#%%\n"
    }
   }
  },
  {
   "cell_type": "markdown",
   "source": [
    "Paso 4.\n",
    "Primeramente notamos la gran similitud de resultados entre la solución analítica y la solución numérica. Practicamente indefiribles en la gráfica mostrada. Esto nos da una gran validez al método implementado. Es necesario analizar la gran semejanza incluso del modelo usado con datos experimentales promedio a alturas encontrados en la web. Existe claro formas de agregar cierta presición de más al modelo físico implementado como por ejemplo la variación de la gravedad segun altura y posición geográfica, variaciones de presión según clima, etc. Puede llegar a ser un proceso computacionalmente complejo que no valga la pena, ademas de caótico por lo que no asegura presición ilimitada."
   ],
   "metadata": {
    "collapsed": false,
    "pycharm": {
     "name": "#%% md\n"
    }
   }
  },
  {
   "cell_type": "code",
   "execution_count": 8,
   "outputs": [
    {
     "data": {
      "text/plain": "<Figure size 432x288 with 1 Axes>",
      "image/png": "[encoded data removed]"
     },
     "metadata": {
      "needs_background": "light"
     },
     "output_type": "display_data"
    }
   ],
   "source": [
    "#Graficamos la la solucion analitica y numerica para comparar los resultados.\n",
    "fig = plt.figure()\n",
    "plt.plot( y, p, 'b.-', label=\"Solución numérica\")\n",
    "plt.plot( y, pAnalitica, 'r-', label=\"Solución analítica\")\n",
    "plt.xlabel(\"y $(m)$\")\n",
    "plt.ylabel(\"p $(Pa)$\")\n",
    "plt.grid(True)\n",
    "plt.title(\"Solucion de ecuación de presión\")\n",
    "plt.legend(loc='upper right')\n",
    "plt.show()"
   ],
   "metadata": {
    "collapsed": false,
    "pycharm": {
     "name": "#%%\n"
    }
   }
  },
  {
   "cell_type": "code",
   "execution_count": 8,
   "outputs": [],
   "source": [],
   "metadata": {
    "collapsed": false,
    "pycharm": {
     "name": "#%%\n"
    }
   }
  }
 ],
 "metadata": {
  "kernelspec": {
   "display_name": "Python 3",
   "language": "python",
   "name": "python3"
  },
  "language_info": {
   "codemirror_mode": {
    "name": "ipython",
    "version": 2
   },
   "file_extension": ".py",
   "mimetype": "text/x-python",
   "name": "python",
   "nbconvert_exporter": "python",
   "pygments_lexer": "ipython2",
   "version": "2.7.6"
  }
 },
 "nbformat": 4,
 "nbformat_minor": 0
}