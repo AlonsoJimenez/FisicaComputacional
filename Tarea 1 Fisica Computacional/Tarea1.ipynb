{
 "cells": [
  {
   "cell_type": "markdown",
   "metadata": {
    "collapsed": true,
    "pycharm": {
     "name": "#%% md\n"
    }
   },
   "source": [
    "George Poyla:\n",
    "\n",
    "Paso 1. Entendimiento del problema:\n",
    "En este paso identificamos los datos en comparación con la pregunta a realizar. Primeramente sabemos que tenemos toda la información para poder realizar la solución. Recordamos de cursos anteriores de física que la integral de la aceleración nos proporciona la velocidad en un punto dado del sistema y a su vez la integral de la velocidad proporciona la posición."
   ]
  },
  {
   "cell_type": "markdown",
   "source": [
    "Paso 2. Configuración del plan:\n",
    "En este paso es importante destacar que realizaremos la solución a traves del lenguaje de programación de Python que nos proporciona un sin fin de posibilidades en la computación cientifíca moderna al ser de lenguaje abierto. Es importante destacar que si bien, existen librerias para realizar el problema, intentaremos ejecutarlo de una manera de más baja abstracción al realizar el algoritmo por nuestras cuentas. Se realizara el problema con un algoritmo de integración por trapezoide ya que pcontiene un vector de pesos simplificado y podemos realizar más iteraciones utilzando la alta capacidad de los ordenadores modernos. La funcion quedará definida en terminos de los parametros para entonces poder realizar el cálculo."
   ],
   "metadata": {
    "collapsed": false,
    "pycharm": {
     "name": "#%% md\n"
    }
   }
  },
  {
   "cell_type": "markdown",
   "source": [
    "Paso 3. Ejecución del problema:\n",
    "Se realizarán dos códigos según nuestra estrategia, ambos serán programados de forma funcional, lo que quiere decir que se delegarán funciones específicas para la solución del ejercicio. El primer código generará una serie de iteraciones que podremos evidenciar donde el valor con cada suma se acerca al resultado deseado. En el segundo haremos el código pero con una cantidad muy grande de iteraciones para reducir el error y compararemos el resultado con este."
   ],
   "metadata": {
    "collapsed": false,
    "pycharm": {
     "name": "#%% md\n"
    }
   }
  },
  {
   "cell_type": "code",
   "execution_count": 46,
   "outputs": [
    {
     "name": "stdout",
     "output_type": "stream",
     "text": [
      "25.0\n"
     ]
    }
   ],
   "source": [
    "#Código 1\n",
    "#Funcion principal para integración numérica.\n",
    "def trapezoide(limiteI, limiteS, n, p):\n",
    "    vecPesos = pesos(limiteS, limiteI, n)\n",
    "    h = (limiteS-limiteI)/n\n",
    "    #Definimos el parametro donde se iteraracturá y desplegará el resultado\n",
    "    resultado = 0\n",
    "    #La variable empieza da función de contador\n",
    "    empieza = limiteI\n",
    "    for i in range(n+1):\n",
    "        resultado += funcion(empieza, p)*vecPesos[i]\n",
    "        #print(resultado)\n",
    "        empieza += h\n",
    "    return resultado\n",
    "\n",
    "\n",
    "#La siguiente funcion evalua y consigue el vector de pesos para el trapezoide\n",
    "def pesos(b, a, n):\n",
    "    h = (b - a) / n\n",
    "    #La variable del vector de pesos almacenará dichos valores para poder ejecutar el código con éxito\n",
    "    vectorPesos = []\n",
    "    vectorPesos += [h / 2]\n",
    "    for i in range(n-1):\n",
    "        vectorPesos += [h]\n",
    "    vectorPesos += [h/2]\n",
    "    return vectorPesos\n",
    "\n",
    "\n",
    "#La siguiente funcion evalua el punto x en la funcion\n",
    "def funcion(x, p):\n",
    "    valor = x*p\n",
    "    return valor\n",
    "\n",
    "\n",
    "#Encuentra la pendiente de la velocidad en el caso de aceleración constante evaluando puntos espacio temporales distintos\n",
    "#Esta pendiente solo se puede encontrar en ejercicios de tipo aceleracion constante\n",
    "def calculoVelocidad(v1, v2, t1, t2):\n",
    "    return (v2-v1) / (t2-t1)\n",
    "\n",
    "#Función principal ejecución para encontrar desplazamiento\n",
    "def calcularDesplazamiento(v1, v2, t1, t2, n):\n",
    "    #El cálculo de la pendiente de la velocidad de esta forma se debe únicamente debido a que son los mismos puntos\n",
    "    # espacio-temporales, de otro modo se deben definir\n",
    "    pendiente = calculoVelocidad(v1, v2, t1, t2)\n",
    "    resultado = trapezoide(t1, t2, n, pendiente)\n",
    "    return resultado\n",
    "\n",
    "#Ejecucion del codigo\n",
    "print(calcularDesplazamiento(0.5, 1, 0, 100, 50))"
   ],
   "metadata": {
    "collapsed": false,
    "pycharm": {
     "name": "#%%\n"
    }
   }
  },
  {
   "cell_type": "code",
   "execution_count": 11,
   "outputs": [
    {
     "name": "stdout",
     "output_type": "stream",
     "text": [
      "(25.0, 2.7755575615628914e-13)\n",
      "25.00000000000011\n"
     ]
    }
   ],
   "source": [
    "#Código 2\n",
    "\n",
    "import scipy.integrate as integrate\n",
    "\n",
    "def calcularDesplazamientoLibreria(v1, v2, t1, t2):\n",
    "    #El cálculo de la pendiente de la velocidad de esta forma se debe únicamente debido a que son los mismos puntos\n",
    "    # espacio-temporales, de otro modo se deben definir\n",
    "    pendiente = calculoVelocidad(v1, v2, t1, t2)\n",
    "    resultado = integrate.quad(lambda x: pendiente*x, t1, t2)\n",
    "    return resultado\n",
    "\n",
    "#Imprimimos resultado:\n",
    "print(calcularDesplazamientoLibreria(0.5, 1, 0, 100))\n",
    "\n",
    "#Comparamos con un resultado de mucho mayor iteraciones\n",
    "print(calcularDesplazamiento(0.5, 1, 0, 100, 50000))"
   ],
   "metadata": {
    "collapsed": false,
    "pycharm": {
     "name": "#%%\n"
    }
   }
  },
  {
   "cell_type": "markdown",
   "source": [
    "Paso 4:\n",
    "Tras realizar una retroperspectiva del código podemos confezar que el mayor desafío fue documentar el mismo. Realizar un codigo legible y claro para terceros o para volver a usarlo despues de un periodo extendido de tiempo. Por otro lado, al comparar los valores con el de la librería en un periodo de tiempo despreciable podemos observar como los resultados difieren hasta la 15 cifra significativa."
   ],
   "metadata": {
    "collapsed": false,
    "pycharm": {
     "name": "#%% md\n"
    }
   }
  },
  {
   "cell_type": "markdown",
   "source": [
    "Ejercicio 2."
   ],
   "metadata": {
    "collapsed": false,
    "pycharm": {
     "name": "#%% md\n"
    }
   }
  },
  {
   "cell_type": "markdown",
   "source": [
    "Paso 1. Entender el problema:\n",
    "Para este problema se plantea realizar por medio de un código la solución de un objeto en movimiento con aceleración constante. Notamos que se comporta de una manera muy simpel e hipotetica como una partícula y no cuenta con fricción. En el enunciado se nos dá la aceleración del vehículo, la posición en t=0 y la velocidad inicial. Se pregunta cuanto duraría en cruzar cierto x=0."
   ],
   "metadata": {
    "collapsed": false,
    "pycharm": {
     "name": "#%% md\n"
    }
   }
  },
  {
   "cell_type": "markdown",
   "source": [
    "Paso 2. Configurar plan:\n",
    "Para resolver este debemos notar que el desplazamiento de este será funcion de la aceleración y el tiempo. Es decir requerimos en el lenguaje de programación de Python un def posicion(aceleracion, tiempo). El problema es que encontrar la solución de esta manera requeriria solucionar multiples integrales que puede ser un proceso ineficiente por lo que una aproximación utilizando el metodo de Newton-Raphson es una mejor vía."
   ],
   "metadata": {
    "collapsed": false,
    "pycharm": {
     "name": "#%% md\n"
    }
   }
  },
  {
   "cell_type": "markdown",
   "source": [
    "Paso 3. Ejecutar el plan:\n",
    "Agregamos una función con condición de parada y depurada para no escoger un número de iteraciones muy grande que no provee la solución deseada. Adicionalmemte le agregamos la función de derivación y una comparación con las derivadas encontradas por la biblioteca Scipy."
   ],
   "metadata": {
    "collapsed": false,
    "pycharm": {
     "name": "#%% md\n"
    }
   }
  },
  {
   "cell_type": "code",
   "execution_count": 118,
   "outputs": [
    {
     "name": "stdout",
     "output_type": "stream",
     "text": [
      "31.622776601683793\n",
      "31.622776601683796\n"
     ]
    }
   ],
   "source": [
    "#Definimos la posición inicial\n",
    "x0 = -5\n",
    "\n",
    "#Funcion derivacion hacia adelante\n",
    "def centrada(x, h, aceleracion):\n",
    "    numerador = funcionDerivada(aceleracion, x - (2*h)) - 8 * funcionDerivada(aceleracion, x - h) + 8 * funcionDerivada(aceleracion,x + h) - funcionDerivada(aceleracion,x + (2*h))\n",
    "    resultado = numerador / (12 * h)\n",
    "    return resultado\n",
    "\n",
    "#Utilizamos la ecuación de movimiento con aceleración constante para encontrar dicha forma de la ecuación\n",
    "def funcionDerivada(aceleracion, t):\n",
    "    global x0\n",
    "    valor = (aceleracion*(t**2))/2 +x0\n",
    "    return valor\n",
    "\n",
    "def f(x):\n",
    "    global x0\n",
    "    return 0.01*x**2 + x0\n",
    "#Función encontrar raiz de la ecuación, n define numero de iteraciones\n",
    "def raiz(aceleracion, t0, n):\n",
    "    deltaT = (-1*funcionDerivada(aceleracion, t0)) / (centrada(t0, 0.0001, aceleracion))\n",
    "    if n >= 0:\n",
    "        #Se utiliza recursividad de pila para un código más comprensible\n",
    "        return raiz(aceleracion, t0 + deltaT, n-1)\n",
    "    else:\n",
    "        return t0 + deltaT\n",
    "\n",
    "#Mostrar resultado\n",
    "print(abs(raiz(0.01, 0, 1500)))\n",
    "\n",
    "#Realizamos mismo ejercicio con las bibliotecas de derivación Scipy.\n",
    "from scipy.misc import derivative\n",
    "def raizScipy(aceleracion, t0, n):\n",
    "    deltaT = (-1*funcionDerivada(aceleracion, t0)) / (derivative(f, t0, 0.0001))\n",
    "    if n >= 0:\n",
    "        #Se utiliza recursividad de pila para un código más comprensible\n",
    "        return raizScipy(aceleracion, t0 + deltaT, n-1)\n",
    "    else:\n",
    "        return t0 + deltaT\n",
    "\n",
    "#mostramos resultado scipy\n",
    "print(abs(raizScipy(0.01, 0.01, 1500)))"
   ],
   "metadata": {
    "collapsed": false,
    "pycharm": {
     "name": "#%%\n"
    }
   }
  },
  {
   "cell_type": "markdown",
   "source": [
    "Paso 4. Mirar hacia atras:\n",
    "Se recalca la dificultad en la depuracion al guiarme por una equivocación en la redacción del material del TEC Digital donde mencionaban que el cambio de x debia hacerse por el deltaX mientras que debia ser la suma de la iteracion pasada con deltaX. Podemos estar satisfechos con el resultado ya que la solución dada de forma analítica resolviendo la ecuación y despejando t da un resultado practicamente igual. En el caso de Scipy, no se aprecian verdaderas diferencias sin embargo notamos que t0 no puede tener valor igual a 0 nunca porque indefine la función."
   ],
   "metadata": {
    "collapsed": false,
    "pycharm": {
     "name": "#%% md\n"
    }
   }
  },
  {
   "cell_type": "code",
   "execution_count": null,
   "outputs": [],
   "source": [],
   "metadata": {
    "collapsed": false,
    "pycharm": {
     "name": "#%%\n"
    }
   }
  }
 ],
 "metadata": {
  "kernelspec": {
   "display_name": "Python 3",
   "language": "python",
   "name": "python3"
  },
  "language_info": {
   "codemirror_mode": {
    "name": "ipython",
    "version": 2
   },
   "file_extension": ".py",
   "mimetype": "text/x-python",
   "name": "python",
   "nbconvert_exporter": "python",
   "pygments_lexer": "ipython2",
   "version": "2.7.6"
  }
 },
 "nbformat": 4,
 "nbformat_minor": 0
}