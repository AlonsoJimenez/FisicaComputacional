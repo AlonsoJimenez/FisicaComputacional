{
 "cells": [
  {
   "cell_type": "markdown",
   "metadata": {
    "collapsed": true,
    "pycharm": {
     "name": "#%% md\n"
    }
   },
   "source": [
    "George Poyla:\n",
    "\n",
    "Paso 1. Entendimiento del problema:\n",
    "En este paso identificamos los datos en comparación con la pregunta a realizar. Primeramente sabemos que tenemos toda la información para poder realizar la solución. Recordamos de cursos anteriores de física que la integral de la aceleración nos proporciona la velocidad en un punto dado del sistema y a su vez la integral de la velocidad proporciona la posición."
   ]
  },
  {
   "cell_type": "markdown",
   "source": [
    "Paso 2. Configuración del plan:\n",
    "En este paso es importante destacar que realizaremos la solución a traves del lenguaje de programación de Python que nos proporciona un sin fin de posibilidades en la computación cientifíca moderna al ser de lenguaje abierto. Es importante destacar que si bien, existen librerias para realizar el problema, intentaremos ejecutarlo de una manera de más baja abstracción al realizar el algoritmo por nuestras cuentas. Se realizara el problema con un algoritmo de integración por trapezoide ya que pcontiene un vector de pesos simplificado y podemos realizar más iteraciones utilzando la alta capacidad de los ordenadores modernos. La funcion quedará definida en terminos de los parametros para entonces poder realizar el cálculo."
   ],
   "metadata": {
    "collapsed": false,
    "pycharm": {
     "name": "#%% md\n"
    }
   }
  },
  {
   "cell_type": "markdown",
   "source": [
    "Paso 3. Ejecución del problema:\n",
    "Se realizarán dos códigos según nuestra estrategia, ambos serán programados de forma funcional, lo que quiere decir que se delegarán funciones específicas para la solución del ejercicio. El primer código generará una serie de iteraciones que podremos evidenciar donde el valor con cada suma se acerca al resultado deseado. En el segundo haremos el código pero con una cantidad muy grande de iteraciones para reducir el error y compararemos el resultado con este."
   ],
   "metadata": {
    "collapsed": false,
    "pycharm": {
     "name": "#%% md\n"
    }
   }
  },
  {
   "cell_type": "code",
   "execution_count": 46,
   "outputs": [
    {
     "name": "stdout",
     "output_type": "stream",
     "text": [
      "25.0\n"
     ]
    }
   ],
   "source": [
    "#Código 1\n",
    "#Funcion principal para integración numérica.\n",
    "def trapezoide(limiteI, limiteS, n, p):\n",
    "    vecPesos = pesos(limiteS, limiteI, n)\n",
    "    h = (limiteS-limiteI)/n\n",
    "    #Definimos el parametro donde se iteraracturá y desplegará el resultado\n",
    "    resultado = 0\n",
    "    #La variable empieza da función de contador\n",
    "    empieza = limiteI\n",
    "    for i in range(n+1):\n",
    "        resultado += funcion(empieza, p)*vecPesos[i]\n",
    "        #print(resultado)\n",
    "        empieza += h\n",
    "    return resultado\n",
    "\n",
    "\n",
    "#La siguiente funcion evalua y consigue el vector de pesos para el trapezoide\n",
    "def pesos(b, a, n):\n",
    "    h = (b - a) / n\n",
    "    #La variable del vector de pesos almacenará dichos valores para poder ejecutar el código con éxito\n",
    "    vectorPesos = []\n",
    "    vectorPesos += [h / 2]\n",
    "    for i in range(n-1):\n",
    "        vectorPesos += [h]\n",
    "    vectorPesos += [h/2]\n",
    "    return vectorPesos\n",
    "\n",
    "\n",
    "#La siguiente funcion evalua el punto x en la funcion\n",
    "def funcion(x, p):\n",
    "    valor = x*p\n",
    "    return valor\n",
    "\n",
    "\n",
    "#Encuentra la pendiente de la velocidad en el caso de aceleración constante evaluando puntos espacio temporales distintos\n",
    "#Esta pendiente solo se puede encontrar en ejercicios de tipo aceleracion constante\n",
    "def calculoVelocidad(v1, v2, t1, t2):\n",
    "    return (v2-v1) / (t2-t1)\n",
    "\n",
    "#Función principal ejecución para encontrar desplazamiento\n",
    "def calcularDesplazamiento(v1, v2, t1, t2, n):\n",
    "    #El cálculo de la pendiente de la velocidad de esta forma se debe únicamente debido a que son los mismos puntos\n",
    "    # espacio-temporales, de otro modo se deben definir\n",
    "    pendiente = calculoVelocidad(v1, v2, t1, t2)\n",
    "    resultado = trapezoide(t1, t2, n, pendiente)\n",
    "    return resultado\n",
    "\n",
    "#Ejecucion del codigo\n",
    "print(calcularDesplazamiento(0.5, 1, 0, 100, 50))"
   ],
   "metadata": {
    "collapsed": false,
    "pycharm": {
     "name": "#%%\n"
    }
   }
  },
  {
   "cell_type": "code",
   "execution_count": 11,
   "outputs": [
    {
     "name": "stdout",
     "output_type": "stream",
     "text": [
      "(25.0, 2.7755575615628914e-13)\n",
      "25.00000000000011\n"
     ]
    }
   ],
   "source": [
    "#Código 2\n",
    "\n",
    "import scipy.integrate as integrate\n",
    "\n",
    "def calcularDesplazamientoLibreria(v1, v2, t1, t2):\n",
    "    #El cálculo de la pendiente de la velocidad de esta forma se debe únicamente debido a que son los mismos puntos\n",
    "    # espacio-temporales, de otro modo se deben definir\n",
    "    pendiente = calculoVelocidad(v1, v2, t1, t2)\n",
    "    resultado = integrate.quad(lambda x: pendiente*x, t1, t2)\n",
    "    return resultado\n",
    "\n",
    "#Imprimimos resultado:\n",
    "print(calcularDesplazamientoLibreria(0.5, 1, 0, 100))\n",
    "\n",
    "#Comparamos con un resultado de mucho mayor iteraciones\n",
    "print(calcularDesplazamiento(0.5, 1, 0, 100, 50000))"
   ],
   "metadata": {
    "collapsed": false,
    "pycharm": {
     "name": "#%%\n"
    }
   }
  },
  {
   "cell_type": "markdown",
   "source": [
    "Paso 4:\n",
    "Tras realizar una retroperspectiva del código podemos confezar que el mayor desafío fue documentar el mismo. Realizar un codigo legible y claro para terceros o para volver a usarlo despues de un periodo extendido de tiempo. Por otro lado, al comparar los valores con el de la librería en un periodo de tiempo despreciable podemos observar como los resultados difieren hasta la 15 cifra significativa."
   ],
   "metadata": {
    "collapsed": false,
    "pycharm": {
     "name": "#%% md\n"
    }
   }
  },
  {
   "cell_type": "markdown",
   "source": [
    "Ejercicio 2."
   ],
   "metadata": {
    "collapsed": false,
    "pycharm": {
     "name": "#%% md\n"
    }
   }
  },
  {
   "cell_type": "markdown",
   "source": [
    "Paso 1. Entender el problema:\n",
    "Para este problema se plantea realizar por medio de un código la solución de un objeto en movimiento con aceleración constante. Notamos que se comporta de una manera muy simpel e hipotetica como una partícula y no cuenta con fricción. En el enunciado se nos dá la aceleración del vehículo, la posición en t=0 y la velocidad inicial. Se pregunta cuanto duraría en cruzar cierto x=0."
   ],
   "metadata": {
    "collapsed": false,
    "pycharm": {
     "name": "#%% md\n"
    }
   }
  },
  {
   "cell_type": "markdown",
   "source": [
    "Paso 2. Configurar plan:\n",
    "Para resolver este debemos notar que el desplazamiento de este será funcion de la aceleración y el tiempo. Es decir requerimos en el lenguaje de programación de Python un def posicion(aceleracion, tiempo). El problema es que encontrar la solución de esta manera requeriria solucionar multiples integrales que puede ser un proceso ineficiente a la maquina pero que aproximará de buena manera con gran número de iteraciones si damos la condición de parada cuando     x >= 0."
   ],
   "metadata": {
    "collapsed": false,
    "pycharm": {
     "name": "#%% md\n"
    }
   }
  },
  {
   "cell_type": "markdown",
   "source": [
    "Paso 3. Ejecutar el plan:\n",
    "Para la ejecución del ejercicio podemos reutilizar partes del código del problema 1 como en las integrales. Agregamos una función con condición de parada y debuggueada para no escoger un número de iteraciones muy grande que no provee la solución deseada."
   ],
   "metadata": {
    "collapsed": false,
    "pycharm": {
     "name": "#%% md\n"
    }
   }
  },
  {
   "cell_type": "code",
   "execution_count": 44,
   "outputs": [
    {
     "name": "stdout",
     "output_type": "stream",
     "text": [
      "31.320889645965448\n"
     ]
    }
   ],
   "source": [
    "#Definimos el planteamiento inicial, aceleracion y numero de iteraciones para la integral\n",
    "n = 999\n",
    "x0 = -5\n",
    "\n",
    "#Realziamos la función principal mencionada anteriormente.\n",
    "def encontrarTiempo(aceleracion, deltaT, t0):\n",
    "    dActual = trapezoide(t0, t0+deltaT, n, aceleracion)\n",
    "    if dActual + x0 >= 0.5 :\n",
    "        return \"Recomendación: disminuir el delta tiempo\"\n",
    "    elif dActual + x0 < 0 and dActual + x0 < -0.2:\n",
    "        #Para hacer un código más legible se utiliza la recursividad de cola\n",
    "        return encontrarTiempo(aceleracion, deltaT+(deltaT/3), t0)\n",
    "    else:\n",
    "        return deltaT\n",
    "\n",
    "print(encontrarTiempo(0.01, 0.0000001, 0))"
   ],
   "metadata": {
    "collapsed": false,
    "pycharm": {
     "name": "#%%\n"
    }
   }
  },
  {
   "cell_type": "markdown",
   "source": [
    "Paso 4. Mirar hacia atras:\n",
    "Notamos que fue necesario cambiar el incremento de deltaT, no podia ser lineal porque los cambios cuadrticos de la función desplazamiento arrojaban muy por encima el resultado a deltas que no fueran multiplos o cercanos a multiplos de la solución. Comparamos con la respuesta analítica no programada y el valor exacto está cercano a 31.62 s por lo que notamos la similitud entre dichos valores."
   ],
   "metadata": {
    "collapsed": false,
    "pycharm": {
     "name": "#%% md\n"
    }
   }
  }
 ],
 "metadata": {
  "kernelspec": {
   "display_name": "Python 3",
   "language": "python",
   "name": "python3"
  },
  "language_info": {
   "codemirror_mode": {
    "name": "ipython",
    "version": 2
   },
   "file_extension": ".py",
   "mimetype": "text/x-python",
   "name": "python",
   "nbconvert_exporter": "python",
   "pygments_lexer": "ipython2",
   "version": "2.7.6"
  }
 },
 "nbformat": 4,
 "nbformat_minor": 0
}