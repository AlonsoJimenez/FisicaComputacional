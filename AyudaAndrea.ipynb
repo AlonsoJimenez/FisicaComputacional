{
 "cells": [
  {
   "cell_type": "code",
   "execution_count": 43,
   "metadata": {
    "collapsed": true
   },
   "outputs": [
    {
     "name": "stdout",
     "output_type": "stream",
     "text": [
      "[[1], [8, 9, 5], [2, 4], [6, 3], [10, 7]]\n"
     ]
    },
    {
     "data": {
      "text/plain": "[26, 49, 53]"
     },
     "execution_count": 43,
     "metadata": {},
     "output_type": "execute_result"
    }
   ],
   "source": [
    "import numpy as np\n",
    "import pandas as pd\n",
    "import scipy\n",
    "import matplotlib.pyplot as plt\n",
    "\n",
    "def importarPQR():\n",
    "    datos = pd.read_excel('FP.xlsx', header=2, nrows=5)\n",
    "    return datos\n",
    "\n",
    "def importarTiempos():\n",
    "    datos = pd.read_excel('FP.xlsx', header=15, nrows=10)\n",
    "    return datos\n",
    "\n",
    "def importarTiemposAlisto(numeroMaquina):\n",
    "    datos = pd.read_excel('FP.xlsx',sheet_name=1, header=14*(numeroMaquina-1)+4, nrows=10)\n",
    "    return datos\n",
    "\n",
    "datosExcel = importarPQR()\n",
    "datosTiempos = importarTiempos()\n",
    "\n",
    "contadorTiempo = 0\n",
    "contadorTiempo = [0, 0, 0, 0, 0]\n",
    "\n",
    "colaMaquina1 = []\n",
    "colaMaquina2 = []\n",
    "colaMaquina3 = []\n",
    "colaMaquina4 = []\n",
    "colaMaquina5 = []\n",
    "\n",
    "maquinas = [colaMaquina1, colaMaquina2, colaMaquina3, colaMaquina4, colaMaquina5]\n",
    "\n",
    "\n",
    "def iniciarCromosoma():\n",
    "    return np.array([10, 3, 7, 4, 5])\n",
    "\n",
    "secuenciaPrincipal = iniciarCromosoma()\n",
    "\n",
    "\n",
    "def asignarRestantes():\n",
    "    global datosExcel\n",
    "    global maquinas\n",
    "    faltar = [1, 2, 6, 8, 9]\n",
    "    for trabajo in faltar:\n",
    "        variableExcel = 'J' + str(trabajo)\n",
    "        maquina = datosExcel[variableExcel][0]\n",
    "        maquinas[maquina-1] += [trabajo]\n",
    "\n",
    "\n",
    "def secuencia():\n",
    "    global datosTiempos\n",
    "    global maquinas\n",
    "    secuencia1 = secuenciaPrincipal\n",
    "    contador = 0\n",
    "    for gen in secuencia1:\n",
    "        contadorTiempo[contador] += datosTiempos['M' + str(contador+1)][gen-1]\n",
    "        cola = auxiliarEncontrarCola(contador, gen)\n",
    "        maquinas[cola-1] += [gen]\n",
    "        contador += 1\n",
    "    tiempos = np.array(contadorTiempo)\n",
    "    indice = np.argmin(tiempos)\n",
    "\n",
    "\n",
    "def auxiliarEncontrarCola(posicionTrabajo, trabajo):\n",
    "    global datosExcel\n",
    "    j = 'J' + str(trabajo)\n",
    "    proceso = datosExcel[j]\n",
    "    contador = 0\n",
    "    for cola in proceso:\n",
    "        if posicionTrabajo+1 == cola:\n",
    "            return proceso[contador + 1]\n",
    "        contador += 1\n",
    "    return None\n",
    "\n",
    "def auxiliarOrdenarTiempos(colasMaquina, proceso, numeroMaquina):\n",
    "    global datosTiempos\n",
    "    listaTiempos = []\n",
    "\n",
    "\n",
    "    for procesoAux in colasMaquina:\n",
    "        datosAlisto = importarTiemposAlisto(numeroMaquina)\n",
    "        Ji = 'J' + str(proceso)\n",
    "        Jj = procesoAux-1\n",
    "        t1 = datosTiempos['M' + str(numeroMaquina)][procesoAux-1]\n",
    "        t2 = datosAlisto[Ji][Jj]\n",
    "        listaTiempos += [t1 + t2]\n",
    "\n",
    "    return listaTiempos\n",
    "\n",
    "asignarRestantes()\n",
    "secuencia()\n",
    "print(maquinas)\n",
    "auxiliarOrdenarTiempos(maquinas[1], 3, 2)\n",
    "\n",
    "\n",
    "\n",
    "\n"
   ]
  },
  {
   "cell_type": "code",
   "execution_count": 12,
   "outputs": [],
   "source": [],
   "metadata": {
    "collapsed": false,
    "pycharm": {
     "name": "#%%\n"
    }
   }
  },
  {
   "cell_type": "code",
   "execution_count": null,
   "outputs": [],
   "source": [],
   "metadata": {
    "collapsed": false,
    "pycharm": {
     "name": "#%%\n"
    }
   }
  }
 ],
 "metadata": {
  "kernelspec": {
   "display_name": "Python 3",
   "language": "python",
   "name": "python3"
  },
  "language_info": {
   "codemirror_mode": {
    "name": "ipython",
    "version": 2
   },
   "file_extension": ".py",
   "mimetype": "text/x-python",
   "name": "python",
   "nbconvert_exporter": "python",
   "pygments_lexer": "ipython2",
   "version": "2.7.6"
  }
 },
 "nbformat": 4,
 "nbformat_minor": 0
}