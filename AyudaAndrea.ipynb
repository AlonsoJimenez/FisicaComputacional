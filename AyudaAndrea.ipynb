{
 "cells": [
  {
   "cell_type": "code",
   "execution_count": 21,
   "metadata": {
    "collapsed": true
   },
   "outputs": [
    {
     "data": {
      "text/plain": "[[1], [8, 9], [2], [6], []]"
     },
     "execution_count": 21,
     "metadata": {},
     "output_type": "execute_result"
    }
   ],
   "source": [
    "import numpy as np\n",
    "import pandas as pd\n",
    "import scipy\n",
    "import matplotlib.pyplot as plt\n",
    "\n",
    "def importarPQR():\n",
    "    datos = pd.read_excel('FP.xlsx', header=2, nrows=5)\n",
    "    return datos\n",
    "\n",
    "datosExcel = importarPQR()\n",
    "\n",
    "\n",
    "colaMaquina1 = []\n",
    "colaMaquina2 = []\n",
    "colaMaquina3 = []\n",
    "colaMaquina4 = []\n",
    "colaMaquina5 = []\n",
    "\n",
    "maquinas = [colaMaquina1, colaMaquina2, colaMaquina3, colaMaquina4, colaMaquina5]\n",
    "\n",
    "\n",
    "def iniciarCromosoma():\n",
    "    return np.array([10, 3, 7, 4, 5])\n",
    "\n",
    "\n",
    "def asignarRestantes():\n",
    "    global datosExcel\n",
    "    global maquinas\n",
    "    faltar = [1, 2, 6, 8, 9]\n",
    "    for trabajo in faltar:\n",
    "        variableExcel = 'J' + str(trabajo)\n",
    "        maquina = datosExcel[variableExcel][0]\n",
    "        maquinas[maquina-1] += [trabajo]\n",
    "\n",
    "asignarRestantes()\n",
    "maquinas\n"
   ]
  },
  {
   "cell_type": "code",
   "execution_count": 12,
   "outputs": [],
   "source": [],
   "metadata": {
    "collapsed": false,
    "pycharm": {
     "name": "#%%\n"
    }
   }
  },
  {
   "cell_type": "code",
   "execution_count": null,
   "outputs": [],
   "source": [],
   "metadata": {
    "collapsed": false,
    "pycharm": {
     "name": "#%%\n"
    }
   }
  }
 ],
 "metadata": {
  "kernelspec": {
   "display_name": "Python 3",
   "language": "python",
   "name": "python3"
  },
  "language_info": {
   "codemirror_mode": {
    "name": "ipython",
    "version": 2
   },
   "file_extension": ".py",
   "mimetype": "text/x-python",
   "name": "python",
   "nbconvert_exporter": "python",
   "pygments_lexer": "ipython2",
   "version": "2.7.6"
  }
 },
 "nbformat": 4,
 "nbformat_minor": 0
}