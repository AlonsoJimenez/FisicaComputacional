{
 "cells": [
  {
   "cell_type": "code",
   "execution_count": 102,
   "metadata": {
    "collapsed": true
   },
   "outputs": [
    {
     "name": "stdout",
     "output_type": "stream",
     "text": [
      "[63, 26, 48, 40, 0]\n",
      "0\n",
      "[[1], [8, 9], [2], [6], []]\n",
      "[63, 70, 48, 40, 26]\n",
      "26\n",
      "[[1], [9], [2], [6, 3], []]\n"
     ]
    }
   ],
   "source": [
    "import numpy as np\n",
    "import pandas as pd\n",
    "import scipy\n",
    "import matplotlib.pyplot as plt\n",
    "\n",
    "def importarPQR():\n",
    "    datos = pd.read_excel('FP.xlsx', header=2, nrows=5)\n",
    "    return datos\n",
    "\n",
    "def importarTiempos():\n",
    "    datos = pd.read_excel('FP.xlsx', header=15, nrows=10)\n",
    "    return datos\n",
    "\n",
    "def importarTiemposAlisto(numeroMaquina):\n",
    "    datos = pd.read_excel('FP.xlsx',sheet_name=1, header=14*(numeroMaquina-1)+4, nrows=10)\n",
    "    return datos\n",
    "\n",
    "datosExcel = importarPQR()\n",
    "datosTiempos = importarTiempos()\n",
    "\n",
    "ultimoTiempo = 0\n",
    "tiempoGlobal = 0\n",
    "contadorTiempo = [0, 0, 0, 0, 0]\n",
    "\n",
    "colaMaquina1 = []\n",
    "colaMaquina2 = []\n",
    "colaMaquina3 = []\n",
    "colaMaquina4 = []\n",
    "colaMaquina5 = []\n",
    "\n",
    "maquinas = [colaMaquina1, colaMaquina2, colaMaquina3, colaMaquina4, colaMaquina5]\n",
    "\n",
    "\n",
    "def iniciarCromosoma():\n",
    "    return np.array([10, 3, 7, 4, 5])\n",
    "\n",
    "secuenciaPrincipal = iniciarCromosoma()\n",
    "\n",
    "\n",
    "def asignarRestantes():\n",
    "    global datosExcel\n",
    "    global maquinas\n",
    "    global contadorTiempo\n",
    "    faltar = [1, 2, 6, 8, 9]\n",
    "    for trabajo in faltar:\n",
    "        variableExcel = 'J' + str(trabajo)\n",
    "        maquina = datosExcel[variableExcel][0]\n",
    "        maquinas[maquina-1] += [trabajo]\n",
    "    tiempos = tiemposEnCola(secuenciaPrincipal, extraerElementosMaquinas())\n",
    "    contador = 0\n",
    "    for t in tiempos:\n",
    "        contadorTiempo[contador] += t\n",
    "        contador += 1\n",
    "\n",
    "\n",
    "def secuencia():\n",
    "    global datosTiempos\n",
    "    global maquinas\n",
    "    global ultimoTiempo\n",
    "    global tiempoGlobal\n",
    "    global contadorTiempo\n",
    "    for i in range(len(maquinas)):\n",
    "        tiempos = auxiliarOrdenarTiempos(maquinas[i], secuenciaPrincipal[i], i+1)\n",
    "        nuevaCola = ordenarPorTiempos(tiempos, maquinas[i])\n",
    "        maquinas[i] = nuevaCola\n",
    "\n",
    "    print(contadorTiempo)\n",
    "    print(tiempoGlobal)\n",
    "    print(maquinas)\n",
    "    a = np.array(contadorTiempo)\n",
    "    x = np.where(a > tiempoGlobal)\n",
    "    x = a[x]\n",
    "    indice = np.argmin(x)\n",
    "    cola = auxiliarEncontrarCola(indice, secuenciaPrincipal[indice])\n",
    "    maquinas[cola-1] += [secuenciaPrincipal[indice]]\n",
    "    tiempoGlobal += contadorTiempo[indice] - ultimoTiempo\n",
    "    ultimoTiempo = contadorTiempo[indice]\n",
    "    secuenciaPrincipal[indice] = maquinas[indice][0]\n",
    "    maquinas[indice] = maquinas[indice][1:]\n",
    "    tiemp = tiemposEnCola(secuenciaPrincipal, extraerElementosMaquinas())[indice]\n",
    "    contadorTiempo[indice] += tiemp\n",
    "    contador = 0\n",
    "    for tiemposAux in contadorTiempo:\n",
    "        if tiemposAux < tiempoGlobal:\n",
    "            contadorTiempo[contador] = tiempoGlobal\n",
    "        contador += 1\n",
    "\n",
    "\n",
    "\n",
    "def extraerElementosMaquinas():\n",
    "    listaResultado = []\n",
    "    global maquinas\n",
    "    for maq in maquinas:\n",
    "        if maq != []:\n",
    "            listaResultado += [maq[0]]\n",
    "        else:\n",
    "            listaResultado += [None]\n",
    "    return listaResultado\n",
    "\n",
    "\n",
    "def auxiliarEncontrarCola(posicionTrabajo, trabajo):\n",
    "    global datosExcel\n",
    "    j = 'J' + str(trabajo)\n",
    "    proceso = datosExcel[j]\n",
    "    contador = 0\n",
    "    for cola in proceso:\n",
    "        if posicionTrabajo+1 == cola:\n",
    "            if contador != 5:\n",
    "                return proceso[contador + 1]\n",
    "            else:\n",
    "                return None\n",
    "        contador += 1\n",
    "    return None\n",
    "\n",
    "def auxiliarOrdenarTiempos(colasMaquina, proceso, numeroMaquina):\n",
    "    global datosTiempos\n",
    "    listaTiempos = []\n",
    "    for procesoAux in colasMaquina:\n",
    "        datosAlisto = importarTiemposAlisto(numeroMaquina)\n",
    "        Ji = 'J' + str(proceso)\n",
    "        Jj = procesoAux-1\n",
    "        t1 = datosTiempos['M' + str(numeroMaquina)][procesoAux-1]\n",
    "        t2 = datosAlisto[Ji][Jj]\n",
    "        listaTiempos += [t1 + t2]\n",
    "    return listaTiempos\n",
    "\n",
    "def ordenarPorTiempos(listaTiempos, listaOrdenar):\n",
    "    nuevaLista = []\n",
    "    indices = np.argsort(listaTiempos)\n",
    "    for i in indices:\n",
    "        nuevaLista += [listaOrdenar[i]]\n",
    "    return nuevaLista\n",
    "\n",
    "def tiemposEnCola(secuencia, colas):\n",
    "    tiemposAux = []\n",
    "    contador = 0\n",
    "    for elemento in colas:\n",
    "        if elemento is not None:\n",
    "            tiemposAux += auxiliarOrdenarTiempos([elemento], secuencia[contador], contador+1)\n",
    "            contador += 1\n",
    "        else:\n",
    "            tiemposAux += [0]\n",
    "\n",
    "    return tiemposAux\n",
    "\n",
    "asignarRestantes()\n",
    "secuencia()\n",
    "#ingreso proceso\n",
    "secuencia()\n",
    "\n",
    "\n",
    "\n"
   ]
  },
  {
   "cell_type": "markdown",
   "source": [],
   "metadata": {
    "collapsed": false,
    "pycharm": {
     "name": "#%% md\n"
    }
   }
  },
  {
   "cell_type": "code",
   "execution_count": 99,
   "outputs": [
    {
     "data": {
      "text/plain": "[4, 1, 2, 3]"
     },
     "execution_count": 99,
     "metadata": {},
     "output_type": "execute_result"
    }
   ],
   "source": [
    "ordenarPorTiempos([20, 50, 60, 12], [1,2,3,4])"
   ],
   "metadata": {
    "collapsed": false,
    "pycharm": {
     "name": "#%%\n"
    }
   }
  },
  {
   "cell_type": "code",
   "execution_count": null,
   "outputs": [],
   "source": [],
   "metadata": {
    "collapsed": false,
    "pycharm": {
     "name": "#%%\n"
    }
   }
  }
 ],
 "metadata": {
  "kernelspec": {
   "display_name": "Python 3",
   "language": "python",
   "name": "python3"
  },
  "language_info": {
   "codemirror_mode": {
    "name": "ipython",
    "version": 2
   },
   "file_extension": ".py",
   "mimetype": "text/x-python",
   "name": "python",
   "nbconvert_exporter": "python",
   "pygments_lexer": "ipython2",
   "version": "2.7.6"
  }
 },
 "nbformat": 4,
 "nbformat_minor": 0
}