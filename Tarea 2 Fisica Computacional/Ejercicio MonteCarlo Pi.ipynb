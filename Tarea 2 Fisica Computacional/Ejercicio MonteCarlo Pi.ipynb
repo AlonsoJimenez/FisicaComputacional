{
 "cells": [
  {
   "cell_type": "code",
   "execution_count": 5,
   "metadata": {
    "collapsed": true,
    "pycharm": {
     "name": "#%%\n"
    }
   },
   "outputs": [
    {
     "name": "stdout",
     "output_type": "stream",
     "text": [
      "785942\n",
      "0.785942\n",
      "3.143768\n"
     ]
    }
   ],
   "source": [
    "import random\n",
    "\n",
    "numeroTiros = 1000000\n",
    "numeroDeAciertos = 0\n",
    "for i in range(numeroTiros):\n",
    "    x = random.random()\n",
    "    y = random.random()\n",
    "    if x**2 + y**2 < 1:\n",
    "        numeroDeAciertos += 1\n",
    "print(numeroDeAciertos)\n",
    "pi4 = numeroDeAciertos/numeroTiros\n",
    "pi = pi4 * 4\n",
    "print(pi4)\n",
    "print(pi)"
   ]
  }
 ],
 "metadata": {
  "kernelspec": {
   "display_name": "Python 3",
   "language": "python",
   "name": "python3"
  },
  "language_info": {
   "codemirror_mode": {
    "name": "ipython",
    "version": 2
   },
   "file_extension": ".py",
   "mimetype": "text/x-python",
   "name": "python",
   "nbconvert_exporter": "python",
   "pygments_lexer": "ipython2",
   "version": "2.7.6"
  }
 },
 "nbformat": 4,
 "nbformat_minor": 0
}