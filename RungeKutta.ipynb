{
 "cells": [
  {
   "cell_type": "markdown",
   "source": [
    "Paso 1 Entender el problema\n",
    "\n",
    "Para realizar este paso se debe consultar toda la documentación disponible por el profesor sobre el metodo de Runge-Kutta de distintos ordenes para resolver ecuaciones diferenciales ordinarias. Del mismo modo se consulta la documentación de las librerías científicas de Python Scipy donde la función solveivp incluye el metodo de Runge Kutta de cuarto orden bajo el nombre de \"RK45\". Este problema es importante mencionar que fue resuelto tanto analíticamente como por el metodo de Picard la semana anterior a dicha clase y se observaron los resultados."
   ],
   "metadata": {
    "collapsed": false,
    "pycharm": {
     "name": "#%% md\n"
    }
   }
  },
  {
   "cell_type": "code",
   "execution_count": 53,
   "outputs": [],
   "source": [
    "from scipy import integrate\n",
    "import numpy as np\n",
    "import matplotlib.pyplot as plt\n",
    "\n",
    "valores_analitica = [1, 1.11649, 1.27356, 1.48802, 1.78936, 2.23453, 2.94948, 4.27878, 7.62278, 32.7084]"
   ],
   "metadata": {
    "collapsed": false,
    "pycharm": {
     "name": "#%%\n"
    }
   }
  },
  {
   "cell_type": "markdown",
   "source": [
    "Paso 2 Configurar un plan\n",
    "Para resolver este código primero debemos notar las necesidades de los parametros para la función de Scipy. Notamos que necesitamos límites inferiores, superiores para t. De igual forma se requiere un valor de y inicial en t de límite inferior.\n",
    "Definimos tambien una función diferencial a resolver que llamaremos F y requerimos puntos t donde evaluar, o en nuestro caso x para poder incluir le 0.3 y obtener resultados comparables con los resultados analíticos dados por el software Mathematica de la semana pasada."
   ],
   "metadata": {
    "collapsed": false,
    "pycharm": {
     "name": "#%% md\n"
    }
   }
  },
  {
   "cell_type": "code",
   "execution_count": 54,
   "outputs": [],
   "source": [
    "def F(t, y):\n",
    "    '''Esta función calcula el valor de la función F que corresponde\n",
    "    a la EDO de primer orden y'=F(y, t)\n",
    "\n",
    "    Parámetros de la función\n",
    "    ------------------------\n",
    "    y : valor y para un punto t particular\n",
    "\n",
    "    t : valor particular de t\n",
    "\n",
    "    Salida de la función\n",
    "    --------------------\n",
    "    valorF : valor de la función evaludada\n",
    "    '''\n",
    "    return t + y**2"
   ],
   "metadata": {
    "collapsed": false,
    "pycharm": {
     "name": "#%%\n"
    }
   }
  },
  {
   "cell_type": "markdown",
   "source": [
    "Paso 3 Ejecutar el plan\n",
    "En la implememtación del plan ejecutamos la función de Scipy. Adicinalmente damos la opción de cambiar los parámetros pero teniendo en cuenta que si no se agregan funciona con parámetros por omisión. Usamos la biblioteca de Matplotlib para graficar la función con los resultados dados."
   ],
   "metadata": {
    "collapsed": false,
    "pycharm": {
     "name": "#%% md\n"
    }
   }
  },
  {
   "cell_type": "code",
   "execution_count": 55,
   "outputs": [
    {
     "data": {
      "text/plain": "<Figure size 432x288 with 1 Axes>",
      "image/png": "[encoded data removed]"
     },
     "metadata": {
      "needs_background": "light"
     },
     "output_type": "display_data"
    }
   ],
   "source": [
    "def implementacionRK45(t0 = 0, tLimit = 0.9):\n",
    "    '''Función ejecuta el metodo de Runge-Kutta orden 4 para dar respuesta a ecuación diferencial ordinaria.\n",
    "\n",
    "    Parámetros de la función\n",
    "    ------------------------\n",
    "    t0 : t inicial\n",
    "\n",
    "    tlimit : valor de t final a ejecutar\n",
    "\n",
    "    Salida de la función\n",
    "    --------------------\n",
    "    valorF : ecucaión diferencial resulta para y(t)\n",
    "    '''\n",
    "    resultado = integrate.solve_ivp(fun = F, t_span = (t0, tLimit), y0 = [1,], method = 'RK45', t_eval= np.arange(0, 1, 0.1))\n",
    "    fig = plt.figure()\n",
    "    plt.plot(resultado.t, resultado.y[0], 'b.-', label='Valor aproximado Runge Kutta 4,5')\n",
    "    #plt.plot(resultado.t, valores_analitica, 'r-', label='Valor verdadero')\n",
    "    plt.grid(True)\n",
    "    plt.legend(loc='upper right')\n",
    "    plt.show()\n",
    "\n",
    "implementacionRK45()"
   ],
   "metadata": {
    "collapsed": false,
    "pycharm": {
     "name": "#%%\n"
    }
   }
  },
  {
   "cell_type": "markdown",
   "source": [
    "Paso 4 Mirar hacia atras\n",
    "Comparamos con los resultados de la solución analítica. Graficamos ambas para observar el comportamiento y comparamos el error máximo de dichas soluciones. Notamos la muy pequeña diferencia que nos ofrece utilizar el método de Runge-Kutta."
   ],
   "metadata": {
    "collapsed": false,
    "pycharm": {
     "name": "#%% md\n"
    }
   }
  },
  {
   "cell_type": "code",
   "execution_count": 58,
   "outputs": [
    {
     "data": {
      "text/plain": "<Figure size 432x288 with 1 Axes>",
      "image/png": "[encoded data removed]"
     },
     "metadata": {
      "needs_background": "light"
     },
     "output_type": "display_data"
    },
    {
     "name": "stdout",
     "output_type": "stream",
     "text": [
      "[0.00000000e+00 1.54470624e-04 1.74004115e-03 9.56997295e-06\n",
      " 1.43579323e-03 2.70034341e-04 1.03121243e-04 1.10060772e-02\n",
      " 3.77254357e-03 6.26092124e-02]\n"
     ]
    }
   ],
   "source": [
    "t0 = 0\n",
    "tLimit = 0.9\n",
    "resultado = integrate.solve_ivp(fun = F, t_span = (t0, tLimit), y0 = [1,], method = 'RK45', t_eval= np.arange(0, 1, 0.1))\n",
    "fig = plt.figure()\n",
    "plt.plot(resultado.t, resultado.y[0], 'b.-', label='Valor aproximado Runge Kutta 4,5')\n",
    "plt.plot(resultado.t, valores_analitica, 'r-', label='Valor verdadero')\n",
    "plt.grid(True)\n",
    "plt.legend(loc='upper right')\n",
    "plt.show()\n",
    "\n",
    "print(max(np.abs(resultado.y-valores_analitica)))"
   ],
   "metadata": {
    "collapsed": false,
    "pycharm": {
     "name": "#%%\n"
    }
   }
  },
  {
   "cell_type": "code",
   "execution_count": null,
   "outputs": [],
   "source": [],
   "metadata": {
    "collapsed": false,
    "pycharm": {
     "name": "#%%\n"
    }
   }
  }
 ],
 "metadata": {
  "kernelspec": {
   "display_name": "Python 3",
   "language": "python",
   "name": "python3"
  },
  "language_info": {
   "codemirror_mode": {
    "name": "ipython",
    "version": 2
   },
   "file_extension": ".py",
   "mimetype": "text/x-python",
   "name": "python",
   "nbconvert_exporter": "python",
   "pygments_lexer": "ipython2",
   "version": "2.7.6"
  }
 },
 "nbformat": 4,
 "nbformat_minor": 0
}